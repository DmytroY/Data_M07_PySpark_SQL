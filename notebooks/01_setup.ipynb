{
 "cells": [
  {
   "cell_type": "code",
   "execution_count": null,
   "id": "0ee99a36-2aac-432d-b469-2e468389b903",
   "metadata": {},
   "outputs": [],
   "source": [
    "data_path = \"abfss://data@styakovdwesteurope.dfs.core.windows.net\"\n",
    "hw_df = spark.read.parquet(data_path  + \"/hotel-weather\").cache()\n",
    "ex_df = spark.read.format(\"avro\").load(data_path  + \"/expedia\").cache()\n",
    "hw_df.createOrReplaceTempView(\"hw\")\n",
    "ex_df.createOrReplaceTempView(\"ex\")"
   ]
  },
  {
   "cell_type": "code",
   "execution_count": 2,
   "id": "96974f11-d09b-4756-85cd-04ba91a4a21e",
   "metadata": {},
   "outputs": [],
   "source": [
    "%load_ext sparksql_magic"
   ]
  }
 ],
 "metadata": {
  "kernelspec": {
   "display_name": "Python 3 (ipykernel)",
   "language": "python",
   "name": "python3"
  },
  "language_info": {
   "codemirror_mode": {
    "name": "ipython",
    "version": 3
   },
   "file_extension": ".py",
   "mimetype": "text/x-python",
   "name": "python",
   "nbconvert_exporter": "python",
   "pygments_lexer": "ipython3",
   "version": "3.10.12"
  }
 },
 "nbformat": 4,
 "nbformat_minor": 5
}
