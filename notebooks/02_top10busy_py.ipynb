{
 "cells": [
  {
   "cell_type": "code",
   "execution_count": 1,
   "id": "bc506b09-2f5c-4e23-b6ab-add6f704cb3d",
   "metadata": {},
   "outputs": [
    {
     "name": "stderr",
     "output_type": "stream",
     "text": [
      "23/11/21 13:50:37 WARN SSLSocketFactoryEx: Failed to load OpenSSL. Falling back to the JSSE default.\n",
      "                                                                                \r"
     ]
    }
   ],
   "source": [
    "%run 00_setup.ipynb"
   ]
  },
  {
   "cell_type": "code",
   "execution_count": 2,
   "id": "715a51a7-c9e1-4e81-8a5c-b91743a57054",
   "metadata": {},
   "outputs": [],
   "source": [
    "import time\n",
    "from pyspark.sql.window import Window\n",
    "from pyspark.sql.functions import to_date, sequence, explode, sum, month, year, col, row_number"
   ]
  },
  {
   "cell_type": "code",
   "execution_count": 3,
   "id": "bbd981a0-2170-404d-8c03-21a44df843ed",
   "metadata": {},
   "outputs": [
    {
     "name": "stdout",
     "output_type": "stream",
     "text": [
      "root\n",
      " |-- id: long (nullable = true)\n",
      " |-- date_time: string (nullable = true)\n",
      " |-- site_name: integer (nullable = true)\n",
      " |-- posa_continent: integer (nullable = true)\n",
      " |-- user_location_country: integer (nullable = true)\n",
      " |-- user_location_region: integer (nullable = true)\n",
      " |-- user_location_city: integer (nullable = true)\n",
      " |-- orig_destination_distance: double (nullable = true)\n",
      " |-- user_id: integer (nullable = true)\n",
      " |-- is_mobile: integer (nullable = true)\n",
      " |-- is_package: integer (nullable = true)\n",
      " |-- channel: integer (nullable = true)\n",
      " |-- srch_ci: string (nullable = true)\n",
      " |-- srch_co: string (nullable = true)\n",
      " |-- srch_adults_cnt: integer (nullable = true)\n",
      " |-- srch_children_cnt: integer (nullable = true)\n",
      " |-- srch_rm_cnt: integer (nullable = true)\n",
      " |-- srch_destination_id: integer (nullable = true)\n",
      " |-- srch_destination_type_id: integer (nullable = true)\n",
      " |-- hotel_id: long (nullable = true)\n",
      "\n"
     ]
    }
   ],
   "source": [
    "ex_df.printSchema()"
   ]
  },
  {
   "cell_type": "code",
   "execution_count": 4,
   "id": "86328b05-f2f3-4d5d-ba70-db95f61893c7",
   "metadata": {},
   "outputs": [],
   "source": [
    "# take only clear data(correct sequence check-in and check-out dates)\n",
    "ex_clear = ex_df.filter(to_date(\"srch_ci\") <= to_date(\"srch_co\"))"
   ]
  },
  {
   "cell_type": "code",
   "execution_count": 5,
   "id": "1823040f-89e6-40d9-a173-95d77afdada5",
   "metadata": {},
   "outputs": [
    {
     "name": "stderr",
     "output_type": "stream",
     "text": [
      "                                                                                \r"
     ]
    },
    {
     "name": "stdout",
     "output_type": "stream",
     "text": [
      "+------------+----------+-----------+\n",
      "|    hotel_id|      date|srch_rm_cnt|\n",
      "+------------+----------+-----------+\n",
      "|970662608899|2017-08-22|          1|\n",
      "|970662608899|2017-08-23|          1|\n",
      "+------------+----------+-----------+\n",
      "only showing top 2 rows\n",
      "\n"
     ]
    },
    {
     "name": "stderr",
     "output_type": "stream",
     "text": [
      "                                                                                \r"
     ]
    },
    {
     "data": {
      "text/plain": [
       "8607595"
      ]
     },
     "execution_count": 5,
     "metadata": {},
     "output_type": "execute_result"
    }
   ],
   "source": [
    "#sum booked rooms by dates. convert date range to records with exact dates and year_month field\n",
    "ex_df1 = ex_clear.select(\n",
    "    'hotel_id',\n",
    "    explode(sequence(to_date('srch_ci'),to_date('srch_co'))).alias('date'),\n",
    "    'srch_rm_cnt'\n",
    ")\n",
    "\n",
    "ex_df1.show(2)\n",
    "ex_df1.count()"
   ]
  },
  {
   "cell_type": "code",
   "execution_count": 6,
   "id": "78bbb801-bbbe-4376-8e48-1c21c0ba7529",
   "metadata": {},
   "outputs": [
    {
     "name": "stderr",
     "output_type": "stream",
     "text": [
      "                                                                                \r"
     ]
    },
    {
     "name": "stdout",
     "output_type": "stream",
     "text": [
      "+-------------+----------+----+-----+----------+\n",
      "|     hotel_id|      date|year|month|used_rooms|\n",
      "+-------------+----------+----+-----+----------+\n",
      "|2293512536074|2016-10-31|2016|   10|        31|\n",
      "|2817498546177|2017-09-29|2017|    9|        37|\n",
      "+-------------+----------+----+-----+----------+\n",
      "only showing top 2 rows\n",
      "\n"
     ]
    },
    {
     "name": "stderr",
     "output_type": "stream",
     "text": [
      "                                                                                \r"
     ]
    },
    {
     "data": {
      "text/plain": [
       "302352"
      ]
     },
     "execution_count": 6,
     "metadata": {},
     "output_type": "execute_result"
    }
   ],
   "source": [
    "# group by 'hotel_id' and 'date', add separate year and month columns, sumarize booked rooms count\n",
    "visits_df = ex_df1.groupBy('hotel_id', 'date') \\\n",
    "    .agg(\n",
    "        year('date').alias('year'),\n",
    "        month('date').alias('month'),\n",
    "        sum('srch_rm_cnt').alias('used_rooms'))\n",
    "\n",
    "visits_df.show(2)\n",
    "visits_df.count()"
   ]
  },
  {
   "cell_type": "code",
   "execution_count": 7,
   "id": "f556f695-e1a9-472f-840e-a73cd9eb6cdb",
   "metadata": {},
   "outputs": [
    {
     "name": "stderr",
     "output_type": "stream",
     "text": [
      "                                                                                \r"
     ]
    },
    {
     "name": "stdout",
     "output_type": "stream",
     "text": [
      "+-------------+----------+----+-----+----------+----+\n",
      "|     hotel_id|      date|year|month|used_rooms|rank|\n",
      "+-------------+----------+----+-----+----------+----+\n",
      "|3289944948741|2016-10-24|2016|   10|        77|   1|\n",
      "|2920577761282|2016-10-07|2016|   10|        75|   2|\n",
      "|2293512536067|2016-10-23|2016|   10|        74|   3|\n",
      "+-------------+----------+----+-----+----------+----+\n",
      "only showing top 3 rows\n",
      "\n",
      "Execution time is  6.05 sec.\n"
     ]
    },
    {
     "name": "stderr",
     "output_type": "stream",
     "text": [
      "[Stage 23:==============>                                           (1 + 3) / 4]\r"
     ]
    },
    {
     "name": "stdout",
     "output_type": "stream",
     "text": [
      "Result contains 246 records\n"
     ]
    },
    {
     "name": "stderr",
     "output_type": "stream",
     "text": [
      "                                                                                \r"
     ]
    }
   ],
   "source": [
    "# choose top 10 busy in every month\n",
    "start_time = time.time()\n",
    "\n",
    "window = Window.partitionBy('year', 'month').orderBy(col('used_rooms').desc())\n",
    "result = visits_df.withColumn(\"rank\", row_number().over(window)).where(col(\"rank\").cast(\"int\") < 11)\n",
    "\n",
    "result.show(3)\n",
    "print(\"Execution time is \", round(time.time() - start_time, 2), \"sec.\")\n",
    "print(\"Result contains\", result.count(), \"records\")"
   ]
  },
  {
   "cell_type": "code",
   "execution_count": 42,
   "id": "60bb2b3a-221d-4818-a884-4e5f7d9725b9",
   "metadata": {},
   "outputs": [
    {
     "name": "stderr",
     "output_type": "stream",
     "text": [
      "                                                                                \r"
     ]
    },
    {
     "name": "stdout",
     "output_type": "stream",
     "text": [
      "+-------------+----------+----+-----+----------+----+-------------------+------+-------+\n",
      "|     hotel_id|      date|year|month|used_rooms|rank|         hotel_name|  city|country|\n",
      "+-------------+----------+----+-----+----------+----+-------------------+------+-------+\n",
      "|3289944948741|2016-10-24|2016|   10|        77|   1|The Stafford London|London|     GB|\n",
      "|2920577761282|2016-10-07|2016|   10|        75|   2|Hotel Malte Astotel| Paris|     FR|\n",
      "|2293512536067|2016-10-23|2016|   10|        74|   3|        Hotel Oscar| Paris|     FR|\n",
      "+-------------+----------+----+-----+----------+----+-------------------+------+-------+\n",
      "only showing top 3 rows\n",
      "\n",
      "Execution time is  4.75 sec.\n"
     ]
    },
    {
     "name": "stderr",
     "output_type": "stream",
     "text": [
      "                                                                                \r"
     ]
    },
    {
     "name": "stdout",
     "output_type": "stream",
     "text": [
      "Result contains 246 records\n"
     ]
    }
   ],
   "source": [
    "# join with hotel-weather data to get more hotel details\n",
    "start_time = time.time()\n",
    "\n",
    "result_ext = result \\\n",
    "    .join(hw_df, result.hotel_id == hw_df.id, \"left\") \\\n",
    "    .select(\n",
    "        result['*'],\n",
    "        hw_df.address.alias('hotel_name'),\n",
    "        'city',\n",
    "        'country') \\\n",
    "    .dropDuplicates()\n",
    "\n",
    "result_ext.show(3)\n",
    "print(\"Execution time is \", round(time.time() - start_time, 2), \"sec.\")\n",
    "print(\"Result contains\", result_ext.count(),  \"records\")"
   ]
  },
  {
   "cell_type": "code",
   "execution_count": 43,
   "id": "98e5ca44-6346-41f1-8a15-b4dc229a7ebb",
   "metadata": {},
   "outputs": [
    {
     "name": "stdout",
     "output_type": "stream",
     "text": [
      "== Physical Plan ==\n",
      "AdaptiveSparkPlan (27)\n",
      "+- HashAggregate (26)\n",
      "   +- HashAggregate (25)\n",
      "      +- Project (24)\n",
      "         +- BroadcastHashJoin LeftOuter BuildRight (23)\n",
      "            :- Filter (16)\n",
      "            :  +- Window (15)\n",
      "            :     +- WindowGroupLimit (14)\n",
      "            :        +- Sort (13)\n",
      "            :           +- Exchange (12)\n",
      "            :              +- WindowGroupLimit (11)\n",
      "            :                 +- Sort (10)\n",
      "            :                    +- HashAggregate (9)\n",
      "            :                       +- Exchange (8)\n",
      "            :                          +- HashAggregate (7)\n",
      "            :                             +- Project (6)\n",
      "            :                                +- Generate (5)\n",
      "            :                                   +- Filter (4)\n",
      "            :                                      +- InMemoryTableScan (1)\n",
      "            :                                            +- InMemoryRelation (2)\n",
      "            :                                                  +- Scan avro  (3)\n",
      "            +- BroadcastExchange (22)\n",
      "               +- Filter (21)\n",
      "                  +- InMemoryTableScan (17)\n",
      "                        +- InMemoryRelation (18)\n",
      "                              +- * ColumnarToRow (20)\n",
      "                                 +- Scan parquet  (19)\n",
      "\n",
      "\n",
      "(1) InMemoryTableScan\n",
      "Output [4]: [srch_ci#110, srch_co#111, srch_rm_cnt#114, hotel_id#117L]\n",
      "Arguments: [srch_ci#110, srch_co#111, srch_rm_cnt#114, hotel_id#117L], [isnotnull(srch_ci#110), isnotnull(srch_co#111), (cast(srch_ci#110 as date) <= cast(srch_co#111 as date))]\n",
      "\n",
      "(2) InMemoryRelation\n",
      "Arguments: [id#98L, date_time#99, site_name#100, posa_continent#101, user_location_country#102, user_location_region#103, user_location_city#104, orig_destination_distance#105, user_id#106, is_mobile#107, is_package#108, channel#109, srch_ci#110, srch_co#111, srch_adults_cnt#112, srch_children_cnt#113, srch_rm_cnt#114, srch_destination_id#115, srch_destination_type_id#116, hotel_id#117L], CachedRDDBuilder(org.apache.spark.sql.execution.columnar.DefaultCachedBatchSerializer@36b4a56f,StorageLevel(disk, memory, deserialized, 1 replicas),FileScan avro [id#98L,date_time#99,site_name#100,posa_continent#101,user_location_country#102,user_location_region#103,user_location_city#104,orig_destination_distance#105,user_id#106,is_mobile#107,is_package#108,channel#109,srch_ci#110,srch_co#111,srch_adults_cnt#112,srch_children_cnt#113,srch_rm_cnt#114,srch_destination_id#115,srch_destination_type_id#116,hotel_id#117L] Batched: false, DataFilters: [], Format: Avro, Location: InMemoryFileIndex(1 paths)[abfss://data@styakovdwesteurope.dfs.core.windows.net/expedia], PartitionFilters: [], PushedFilters: [], ReadSchema: struct<id:bigint,date_time:string,site_name:int,posa_continent:int,user_location_country:int,user...\n",
      ",None)\n",
      "\n",
      "(3) Scan avro \n",
      "Output [20]: [id#98L, date_time#99, site_name#100, posa_continent#101, user_location_country#102, user_location_region#103, user_location_city#104, orig_destination_distance#105, user_id#106, is_mobile#107, is_package#108, channel#109, srch_ci#110, srch_co#111, srch_adults_cnt#112, srch_children_cnt#113, srch_rm_cnt#114, srch_destination_id#115, srch_destination_type_id#116, hotel_id#117L]\n",
      "Batched: false\n",
      "Location: InMemoryFileIndex [abfss://data@styakovdwesteurope.dfs.core.windows.net/expedia]\n",
      "ReadSchema: struct<id:bigint,date_time:string,site_name:int,posa_continent:int,user_location_country:int,user_location_region:int,user_location_city:int,orig_destination_distance:double,user_id:int,is_mobile:int,is_package:int,channel:int,srch_ci:string,srch_co:string,srch_adults_cnt:int,srch_children_cnt:int,srch_rm_cnt:int,srch_destination_id:int,srch_destination_type_id:int,hotel_id:bigint>\n",
      "\n",
      "(4) Filter\n",
      "Input [4]: [srch_ci#110, srch_co#111, srch_rm_cnt#114, hotel_id#117L]\n",
      "Condition : ((isnotnull(srch_ci#110) AND isnotnull(srch_co#111)) AND (cast(srch_ci#110 as date) <= cast(srch_co#111 as date)))\n",
      "\n",
      "(5) Generate\n",
      "Input [4]: [srch_ci#110, srch_co#111, srch_rm_cnt#114, hotel_id#117L]\n",
      "Arguments: explode(sequence(cast(srch_ci#110 as date), cast(srch_co#111 as date), None, Some(Europe/Kyiv))), [srch_rm_cnt#114, hotel_id#117L], false, [date#19397]\n",
      "\n",
      "(6) Project\n",
      "Output [3]: [hotel_id#117L, date#19397, srch_rm_cnt#114]\n",
      "Input [3]: [srch_rm_cnt#114, hotel_id#117L, date#19397]\n",
      "\n",
      "(7) HashAggregate\n",
      "Input [3]: [hotel_id#117L, date#19397, srch_rm_cnt#114]\n",
      "Keys [2]: [hotel_id#117L, date#19397]\n",
      "Functions [1]: [partial_sum(srch_rm_cnt#114)]\n",
      "Aggregate Attributes [1]: [sum#20141L]\n",
      "Results [3]: [hotel_id#117L, date#19397, sum#20142L]\n",
      "\n",
      "(8) Exchange\n",
      "Input [3]: [hotel_id#117L, date#19397, sum#20142L]\n",
      "Arguments: hashpartitioning(hotel_id#117L, date#19397, 200), ENSURE_REQUIREMENTS, [plan_id=11811]\n",
      "\n",
      "(9) HashAggregate\n",
      "Input [3]: [hotel_id#117L, date#19397, sum#20142L]\n",
      "Keys [2]: [hotel_id#117L, date#19397]\n",
      "Functions [1]: [sum(srch_rm_cnt#114)]\n",
      "Aggregate Attributes [1]: [sum(srch_rm_cnt#114)#19819L]\n",
      "Results [5]: [hotel_id#117L, date#19397, year(date#19397) AS year#19817, month(date#19397) AS month#19818, sum(srch_rm_cnt#114)#19819L AS used_rooms#19820L]\n",
      "\n",
      "(10) Sort\n",
      "Input [5]: [hotel_id#117L, date#19397, year#19817, month#19818, used_rooms#19820L]\n",
      "Arguments: [year#19817 ASC NULLS FIRST, month#19818 ASC NULLS FIRST, used_rooms#19820L DESC NULLS LAST], false, 0\n",
      "\n",
      "(11) WindowGroupLimit\n",
      "Input [5]: [hotel_id#117L, date#19397, year#19817, month#19818, used_rooms#19820L]\n",
      "Arguments: [year#19817, month#19818], [used_rooms#19820L DESC NULLS LAST], row_number(), 10, Partial\n",
      "\n",
      "(12) Exchange\n",
      "Input [5]: [hotel_id#117L, date#19397, year#19817, month#19818, used_rooms#19820L]\n",
      "Arguments: hashpartitioning(year#19817, month#19818, 200), ENSURE_REQUIREMENTS, [plan_id=11817]\n",
      "\n",
      "(13) Sort\n",
      "Input [5]: [hotel_id#117L, date#19397, year#19817, month#19818, used_rooms#19820L]\n",
      "Arguments: [year#19817 ASC NULLS FIRST, month#19818 ASC NULLS FIRST, used_rooms#19820L DESC NULLS LAST], false, 0\n",
      "\n",
      "(14) WindowGroupLimit\n",
      "Input [5]: [hotel_id#117L, date#19397, year#19817, month#19818, used_rooms#19820L]\n",
      "Arguments: [year#19817, month#19818], [used_rooms#19820L DESC NULLS LAST], row_number(), 10, Final\n",
      "\n",
      "(15) Window\n",
      "Input [5]: [hotel_id#117L, date#19397, year#19817, month#19818, used_rooms#19820L]\n",
      "Arguments: [row_number() windowspecdefinition(year#19817, month#19818, used_rooms#19820L DESC NULLS LAST, specifiedwindowframe(RowFrame, unboundedpreceding$(), currentrow$())) AS rank#20353], [year#19817, month#19818], [used_rooms#19820L DESC NULLS LAST]\n",
      "\n",
      "(16) Filter\n",
      "Input [6]: [hotel_id#117L, date#19397, year#19817, month#19818, used_rooms#19820L, rank#20353]\n",
      "Condition : (rank#20353 < 11)\n",
      "\n",
      "(17) InMemoryTableScan\n",
      "Output [4]: [address#0, city#3, country#4, id#6]\n",
      "Arguments: [address#0, city#3, country#4, id#6], [isnotnull(id#6)]\n",
      "\n",
      "(18) InMemoryRelation\n",
      "Arguments: [address#0, avg_tmpr_c#1, avg_tmpr_f#2, city#3, country#4, geoHash#5, id#6, latitude#7, longitude#8, name#9, wthr_date#10, year#11, month#12, day#13], CachedRDDBuilder(org.apache.spark.sql.execution.columnar.DefaultCachedBatchSerializer@36b4a56f,StorageLevel(disk, memory, deserialized, 1 replicas),*(1) ColumnarToRow\n",
      "+- FileScan parquet [address#0,avg_tmpr_c#1,avg_tmpr_f#2,city#3,country#4,geoHash#5,id#6,latitude#7,longitude#8,name#9,wthr_date#10,year#11,month#12,day#13] Batched: true, DataFilters: [], Format: Parquet, Location: InMemoryFileIndex(1 paths)[abfss://data@styakovdwesteurope.dfs.core.windows.net/hotel-weather], PartitionFilters: [], PushedFilters: [], ReadSchema: struct<address:string,avg_tmpr_c:double,avg_tmpr_f:double,city:string,country:string,geoHash:stri...\n",
      ",None)\n",
      "\n",
      "(19) Scan parquet \n",
      "Output [14]: [address#0, avg_tmpr_c#1, avg_tmpr_f#2, city#3, country#4, geoHash#5, id#6, latitude#7, longitude#8, name#9, wthr_date#10, year#11, month#12, day#13]\n",
      "Batched: true\n",
      "Location: InMemoryFileIndex [abfss://data@styakovdwesteurope.dfs.core.windows.net/hotel-weather]\n",
      "ReadSchema: struct<address:string,avg_tmpr_c:double,avg_tmpr_f:double,city:string,country:string,geoHash:string,id:string,latitude:double,longitude:double,name:string,wthr_date:string>\n",
      "\n",
      "(20) ColumnarToRow [codegen id : 1]\n",
      "Input [14]: [address#0, avg_tmpr_c#1, avg_tmpr_f#2, city#3, country#4, geoHash#5, id#6, latitude#7, longitude#8, name#9, wthr_date#10, year#11, month#12, day#13]\n",
      "\n",
      "(21) Filter\n",
      "Input [4]: [address#0, city#3, country#4, id#6]\n",
      "Condition : isnotnull(id#6)\n",
      "\n",
      "(22) BroadcastExchange\n",
      "Input [4]: [address#0, city#3, country#4, id#6]\n",
      "Arguments: HashedRelationBroadcastMode(List(cast(input[3, string, false] as bigint)),false), [plan_id=11823]\n",
      "\n",
      "(23) BroadcastHashJoin\n",
      "Left keys [1]: [hotel_id#117L]\n",
      "Right keys [1]: [cast(id#6 as bigint)]\n",
      "Join type: LeftOuter\n",
      "Join condition: None\n",
      "\n",
      "(24) Project\n",
      "Output [9]: [hotel_id#117L, date#19397, year#19817, month#19818, used_rooms#19820L, rank#20353, address#0 AS hotel_name#21446, city#3, country#4]\n",
      "Input [10]: [hotel_id#117L, date#19397, year#19817, month#19818, used_rooms#19820L, rank#20353, address#0, city#3, country#4, id#6]\n",
      "\n",
      "(25) HashAggregate\n",
      "Input [9]: [hotel_id#117L, date#19397, year#19817, month#19818, used_rooms#19820L, rank#20353, hotel_name#21446, city#3, country#4]\n",
      "Keys [9]: [city#3, hotel_id#117L, used_rooms#19820L, rank#20353, hotel_name#21446, year#19817, country#4, date#19397, month#19818]\n",
      "Functions: []\n",
      "Aggregate Attributes: []\n",
      "Results [9]: [city#3, hotel_id#117L, used_rooms#19820L, rank#20353, hotel_name#21446, year#19817, country#4, date#19397, month#19818]\n",
      "\n",
      "(26) HashAggregate\n",
      "Input [9]: [city#3, hotel_id#117L, used_rooms#19820L, rank#20353, hotel_name#21446, year#19817, country#4, date#19397, month#19818]\n",
      "Keys [9]: [city#3, hotel_id#117L, used_rooms#19820L, rank#20353, hotel_name#21446, year#19817, country#4, date#19397, month#19818]\n",
      "Functions: []\n",
      "Aggregate Attributes: []\n",
      "Results [9]: [hotel_id#117L, date#19397, year#19817, month#19818, used_rooms#19820L, rank#20353, hotel_name#21446, city#3, country#4]\n",
      "\n",
      "(27) AdaptiveSparkPlan\n",
      "Output [9]: [hotel_id#117L, date#19397, year#19817, month#19818, used_rooms#19820L, rank#20353, hotel_name#21446, city#3, country#4]\n",
      "Arguments: isFinalPlan=false\n",
      "\n",
      "\n"
     ]
    }
   ],
   "source": [
    "result_ext.explain(mode=\"formatted\")"
   ]
  },
  {
   "cell_type": "code",
   "execution_count": null,
   "id": "dc3ce113-a323-483a-889d-9c6720247575",
   "metadata": {},
   "outputs": [],
   "source": []
  }
 ],
 "metadata": {
  "kernelspec": {
   "display_name": "Python 3 (ipykernel)",
   "language": "python",
   "name": "python3"
  },
  "language_info": {
   "codemirror_mode": {
    "name": "ipython",
    "version": 3
   },
   "file_extension": ".py",
   "mimetype": "text/x-python",
   "name": "python",
   "nbconvert_exporter": "python",
   "pygments_lexer": "ipython3",
   "version": "3.10.12"
  }
 },
 "nbformat": 4,
 "nbformat_minor": 5
}
