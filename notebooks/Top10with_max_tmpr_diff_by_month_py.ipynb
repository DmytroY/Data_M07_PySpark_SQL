{
 "cells": [
  {
   "cell_type": "code",
   "execution_count": 1,
   "id": "bc506b09-2f5c-4e23-b6ab-add6f704cb3d",
   "metadata": {},
   "outputs": [
    {
     "name": "stderr",
     "output_type": "stream",
     "text": [
      "23/11/20 13:57:11 WARN SSLSocketFactoryEx: Failed to load OpenSSL. Falling back to the JSSE default.\n",
      "                                                                                \r"
     ]
    }
   ],
   "source": [
    "%run 01_setup.ipynb"
   ]
  },
  {
   "cell_type": "code",
   "execution_count": 22,
   "id": "715a51a7-c9e1-4e81-8a5c-b91743a57054",
   "metadata": {},
   "outputs": [],
   "source": [
    "import time\n",
    "from pyspark.sql.window import Window\n",
    "from pyspark.sql.functions import sum, max, min, col, row_number"
   ]
  },
  {
   "cell_type": "code",
   "execution_count": 3,
   "id": "dc3ce113-a323-483a-889d-9c6720247575",
   "metadata": {},
   "outputs": [
    {
     "name": "stdout",
     "output_type": "stream",
     "text": [
      "root\n",
      " |-- address: string (nullable = true)\n",
      " |-- avg_tmpr_c: double (nullable = true)\n",
      " |-- avg_tmpr_f: double (nullable = true)\n",
      " |-- city: string (nullable = true)\n",
      " |-- country: string (nullable = true)\n",
      " |-- geoHash: string (nullable = true)\n",
      " |-- id: string (nullable = true)\n",
      " |-- latitude: double (nullable = true)\n",
      " |-- longitude: double (nullable = true)\n",
      " |-- name: string (nullable = true)\n",
      " |-- wthr_date: string (nullable = true)\n",
      " |-- year: integer (nullable = true)\n",
      " |-- month: integer (nullable = true)\n",
      " |-- day: integer (nullable = true)\n",
      "\n"
     ]
    }
   ],
   "source": [
    "hw_df.printSchema()"
   ]
  },
  {
   "cell_type": "code",
   "execution_count": 20,
   "id": "27b7d626-d48e-498b-8935-83bfc0d32dcb",
   "metadata": {},
   "outputs": [],
   "source": [
    "hw_clear = hw_df.groupBy('id', 'year', 'month') \\\n",
    "    .agg(\n",
    "        max('avg_tmpr_c').alias('max_t'),\n",
    "        min('avg_tmpr_c').alias('min_t'),\n",
    "        (max('avg_tmpr_c') - min('avg_tmpr_c')).alias('t_diff')\n",
    "    ).where('t_diff > 0')"
   ]
  },
  {
   "cell_type": "code",
   "execution_count": 26,
   "id": "3bf699ea-038c-4f9d-8fcc-0d8f984c8e4d",
   "metadata": {},
   "outputs": [
    {
     "name": "stderr",
     "output_type": "stream",
     "text": [
      "[Stage 53:==============================================>         (26 + 4) / 31]\r"
     ]
    },
    {
     "name": "stdout",
     "output_type": "stream",
     "text": [
      "+-------------+----+-----+-----+-----+------------------+----+\n",
      "|           id|year|month|max_t|min_t|            t_diff|rank|\n",
      "+-------------+----+-----+-----+-----+------------------+----+\n",
      "|1571958030336|2016|   10| 10.8| -7.7|              18.5|   1|\n",
      "|  77309411328|2016|   10| 19.2|  1.0|              18.2|   2|\n",
      "| 695784701957|2016|   10| 15.2| -1.1|              16.3|   3|\n",
      "| 369367187456|2016|   10| 21.1|  4.9|16.200000000000003|   4|\n",
      "|  77309411335|2016|   10| 20.7|  5.8|14.899999999999999|   5|\n",
      "|1520418422787|2016|   10| 20.7|  5.8|14.899999999999999|   6|\n",
      "|1013612281860|2016|   10| 19.2|  4.5|              14.7|   7|\n",
      "| 137438953473|2016|   10| 22.1|  7.7|14.400000000000002|   8|\n",
      "|1108101562369|2016|   10| 16.3|  2.1|14.200000000000001|   9|\n",
      "| 335007449088|2016|   10| 17.3|  3.8|              13.5|  10|\n",
      "| 824633720837|2017|    8| 21.8| 13.3|               8.5|   1|\n",
      "| 996432412678|2017|    8| 26.0| 17.5|               8.5|   2|\n",
      "| 730144440321|2017|    8| 26.0| 17.5|               8.5|   3|\n",
      "| 970662608897|2017|    8| 26.0| 17.5|               8.5|   4|\n",
      "|1288490188802|2017|    8| 21.4| 12.9| 8.499999999999998|   5|\n",
      "|1322849927171|2017|    8| 27.0| 18.7|               8.3|   6|\n",
      "|  25769803778|2017|    8| 29.2| 21.0|               8.2|   7|\n",
      "|1013612281861|2017|    8| 25.7| 17.7|               8.0|   8|\n",
      "|1262720385026|2017|    8| 24.1| 16.2| 7.900000000000002|   9|\n",
      "|  77309411328|2017|    8| 19.2| 11.3| 7.899999999999999|  10|\n",
      "+-------------+----+-----+-----+-----+------------------+----+\n",
      "only showing top 20 rows\n",
      "\n",
      "Execution time is  1.76 sec.\n"
     ]
    },
    {
     "name": "stderr",
     "output_type": "stream",
     "text": [
      "                                                                                \r"
     ]
    }
   ],
   "source": [
    "start_time = time.time()\n",
    "\n",
    "window = Window.partitionBy('year', 'month').orderBy(col('t_diff').desc())\n",
    "result = hw_clear.withColumn(\"rank\", row_number().over(window)).where(col(\"rank\").cast(\"int\") < 11)\n",
    "result.show()\n",
    "\n",
    "print(\"Execution time is \", round(time.time() - start_time, 2), \"sec.\")"
   ]
  },
  {
   "cell_type": "code",
   "execution_count": 27,
   "id": "6654caef-d530-43da-9275-b04e5da2fa97",
   "metadata": {},
   "outputs": [
    {
     "name": "stdout",
     "output_type": "stream",
     "text": [
      "== Physical Plan ==\n",
      "AdaptiveSparkPlan isFinalPlan=false\n",
      "+- Filter (rank#4755 < 11)\n",
      "   +- Window [row_number() windowspecdefinition(year#11, month#12, t_diff#3947 DESC NULLS LAST, specifiedwindowframe(RowFrame, unboundedpreceding$(), currentrow$())) AS rank#4755], [year#11, month#12], [t_diff#3947 DESC NULLS LAST]\n",
      "      +- WindowGroupLimit [year#11, month#12], [t_diff#3947 DESC NULLS LAST], row_number(), 10, Final\n",
      "         +- Sort [year#11 ASC NULLS FIRST, month#12 ASC NULLS FIRST, t_diff#3947 DESC NULLS LAST], false, 0\n",
      "            +- Exchange hashpartitioning(year#11, month#12, 200), ENSURE_REQUIREMENTS, [plan_id=1798]\n",
      "               +- WindowGroupLimit [year#11, month#12], [t_diff#3947 DESC NULLS LAST], row_number(), 10, Partial\n",
      "                  +- Sort [year#11 ASC NULLS FIRST, month#12 ASC NULLS FIRST, t_diff#3947 DESC NULLS LAST], false, 0\n",
      "                     +- Filter (isnotnull(t_diff#3947) AND (t_diff#3947 > 0.0))\n",
      "                        +- HashAggregate(keys=[id#6, year#11, month#12], functions=[max(avg_tmpr_c#1), min(avg_tmpr_c#1)])\n",
      "                           +- Exchange hashpartitioning(id#6, year#11, month#12, 200), ENSURE_REQUIREMENTS, [plan_id=1791]\n",
      "                              +- HashAggregate(keys=[id#6, year#11, month#12], functions=[partial_max(avg_tmpr_c#1), partial_min(avg_tmpr_c#1)])\n",
      "                                 +- InMemoryTableScan [avg_tmpr_c#1, id#6, year#11, month#12]\n",
      "                                       +- InMemoryRelation [address#0, avg_tmpr_c#1, avg_tmpr_f#2, city#3, country#4, geoHash#5, id#6, latitude#7, longitude#8, name#9, wthr_date#10, year#11, month#12, day#13], StorageLevel(disk, memory, deserialized, 1 replicas)\n",
      "                                             +- *(1) ColumnarToRow\n",
      "                                                +- FileScan parquet [address#0,avg_tmpr_c#1,avg_tmpr_f#2,city#3,country#4,geoHash#5,id#6,latitude#7,longitude#8,name#9,wthr_date#10,year#11,month#12,day#13] Batched: true, DataFilters: [], Format: Parquet, Location: InMemoryFileIndex(1 paths)[abfss://data@styakovdwesteurope.dfs.core.windows.net/hotel-weather], PartitionFilters: [], PushedFilters: [], ReadSchema: struct<address:string,avg_tmpr_c:double,avg_tmpr_f:double,city:string,country:string,geoHash:stri...\n",
      "\n",
      "\n"
     ]
    }
   ],
   "source": [
    "result.explain()"
   ]
  },
  {
   "cell_type": "code",
   "execution_count": null,
   "id": "cf19f744-9a46-4d03-859d-3fe36f686068",
   "metadata": {},
   "outputs": [],
   "source": []
  }
 ],
 "metadata": {
  "kernelspec": {
   "display_name": "Python 3 (ipykernel)",
   "language": "python",
   "name": "python3"
  },
  "language_info": {
   "codemirror_mode": {
    "name": "ipython",
    "version": 3
   },
   "file_extension": ".py",
   "mimetype": "text/x-python",
   "name": "python",
   "nbconvert_exporter": "python",
   "pygments_lexer": "ipython3",
   "version": "3.10.12"
  }
 },
 "nbformat": 4,
 "nbformat_minor": 5
}
