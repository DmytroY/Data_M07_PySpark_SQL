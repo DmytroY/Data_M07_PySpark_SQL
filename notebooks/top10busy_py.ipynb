{
 "cells": [
  {
   "cell_type": "code",
   "execution_count": 2,
   "id": "bc506b09-2f5c-4e23-b6ab-add6f704cb3d",
   "metadata": {},
   "outputs": [
    {
     "name": "stderr",
     "output_type": "stream",
     "text": [
      "23/11/19 18:51:58 WARN SSLSocketFactoryEx: Failed to load OpenSSL. Falling back to the JSSE default.\n",
      "                                                                                \r"
     ]
    }
   ],
   "source": [
    "%run 01_setup.ipynb"
   ]
  },
  {
   "cell_type": "code",
   "execution_count": 3,
   "id": "715a51a7-c9e1-4e81-8a5c-b91743a57054",
   "metadata": {},
   "outputs": [],
   "source": [
    "import time\n",
    "from pyspark.sql.functions import to_date, sequence, explode, sum, month, year, concat_ws, collect_list,desc"
   ]
  },
  {
   "cell_type": "code",
   "execution_count": 4,
   "id": "86328b05-f2f3-4d5d-ba70-db95f61893c7",
   "metadata": {},
   "outputs": [],
   "source": [
    "# take only clear data\n",
    "ex_clear = ex_df.filter(to_date(\"srch_ci\") <= to_date(\"srch_co\"))"
   ]
  },
  {
   "cell_type": "code",
   "execution_count": 5,
   "id": "4d82ecff-7a88-4b28-a404-220ad6e09dbf",
   "metadata": {},
   "outputs": [],
   "source": [
    "#sum booked rooms by dates\n",
    "ex_df1 = ex_clear.select('hotel_id', explode(sequence(to_date('srch_ci'),to_date('srch_co'))).alias('date'), 'srch_rm_cnt')\n",
    "visits_df = ex_df1.groupBy('hotel_id', 'date') \\\n",
    "    .agg(concat_ws(\"_\", year('date'), month('date')).alias('year_month'),sum('srch_rm_cnt').alias('used_rooms'))"
   ]
  },
  {
   "cell_type": "code",
   "execution_count": 14,
   "id": "98e5ca44-6346-41f1-8a15-b4dc229a7ebb",
   "metadata": {},
   "outputs": [
    {
     "name": "stdout",
     "output_type": "stream",
     "text": [
      "== Physical Plan ==\n",
      "AdaptiveSparkPlan (10)\n",
      "+- HashAggregate (9)\n",
      "   +- HashAggregate (8)\n",
      "      +- Project (7)\n",
      "         +- Generate (6)\n",
      "            +- Filter (5)\n",
      "               +- GlobalLimit (4)\n",
      "                  +- Exchange (3)\n",
      "                     +- LocalLimit (2)\n",
      "                        +- Scan avro  (1)\n",
      "\n",
      "\n",
      "(1) Scan avro \n",
      "Output [4]: [srch_ci#40, srch_co#41, srch_rm_cnt#44, hotel_id#47L]\n",
      "Batched: false\n",
      "Location: InMemoryFileIndex [abfss://data@styakovdwesteurope.dfs.core.windows.net/expedia]\n",
      "ReadSchema: struct<srch_ci:string,srch_co:string,srch_rm_cnt:int,hotel_id:bigint>\n",
      "\n",
      "(2) LocalLimit\n",
      "Input [4]: [srch_ci#40, srch_co#41, srch_rm_cnt#44, hotel_id#47L]\n",
      "Arguments: 1000\n",
      "\n",
      "(3) Exchange\n",
      "Input [4]: [srch_ci#40, srch_co#41, srch_rm_cnt#44, hotel_id#47L]\n",
      "Arguments: SinglePartition, ENSURE_REQUIREMENTS, [plan_id=37]\n",
      "\n",
      "(4) GlobalLimit\n",
      "Input [4]: [srch_ci#40, srch_co#41, srch_rm_cnt#44, hotel_id#47L]\n",
      "Arguments: 1000, 0\n",
      "\n",
      "(5) Filter\n",
      "Input [4]: [srch_ci#40, srch_co#41, srch_rm_cnt#44, hotel_id#47L]\n",
      "Condition : ((isnotnull(srch_ci#40) AND isnotnull(srch_co#41)) AND (cast(srch_ci#40 as date) <= cast(srch_co#41 as date)))\n",
      "\n",
      "(6) Generate\n",
      "Input [4]: [srch_ci#40, srch_co#41, srch_rm_cnt#44, hotel_id#47L]\n",
      "Arguments: explode(sequence(cast(srch_ci#40 as date), cast(srch_co#41 as date), None, Some(Europe/Kyiv))), [srch_rm_cnt#44, hotel_id#47L], false, [date#70]\n",
      "\n",
      "(7) Project\n",
      "Output [3]: [hotel_id#47L, date#70, srch_rm_cnt#44]\n",
      "Input [3]: [srch_rm_cnt#44, hotel_id#47L, date#70]\n",
      "\n",
      "(8) HashAggregate\n",
      "Input [3]: [hotel_id#47L, date#70, srch_rm_cnt#44]\n",
      "Keys [2]: [hotel_id#47L, date#70]\n",
      "Functions [1]: [partial_sum(srch_rm_cnt#44)]\n",
      "Aggregate Attributes [1]: [sum#84L]\n",
      "Results [3]: [hotel_id#47L, date#70, sum#85L]\n",
      "\n",
      "(9) HashAggregate\n",
      "Input [3]: [hotel_id#47L, date#70, sum#85L]\n",
      "Keys [2]: [hotel_id#47L, date#70]\n",
      "Functions [1]: [sum(srch_rm_cnt#44)]\n",
      "Aggregate Attributes [1]: [sum(srch_rm_cnt#44)#78L]\n",
      "Results [4]: [hotel_id#47L, date#70, concat_ws(_, cast(year(date#70) as string), cast(month(date#70) as string)) AS year_month#77, sum(srch_rm_cnt#44)#78L AS used_rooms#79L]\n",
      "\n",
      "(10) AdaptiveSparkPlan\n",
      "Output [4]: [hotel_id#47L, date#70, year_month#77, used_rooms#79L]\n",
      "Arguments: isFinalPlan=false\n",
      "\n",
      "\n"
     ]
    }
   ],
   "source": [
    "visits_df.explain(mode=\"formatted\")"
   ]
  },
  {
   "cell_type": "code",
   "execution_count": 11,
   "id": "acd5e8ca-191d-4634-a5c6-8770ffce644c",
   "metadata": {},
   "outputs": [
    {
     "name": "stderr",
     "output_type": "stream",
     "text": [
      "[Stage 34:==============================================>           (4 + 1) / 5]\r"
     ]
    },
    {
     "name": "stdout",
     "output_type": "stream",
     "text": [
      "execution time is  40.80367469787598\n"
     ]
    },
    {
     "name": "stderr",
     "output_type": "stream",
     "text": [
      "                                                                                \r"
     ]
    }
   ],
   "source": [
    "# itterate though distinct year_month periods, collect top 10 hotels in every period\n",
    "start_time = time.time()\n",
    "\n",
    "list_of_rows = []\n",
    "distinct_yms = [x.year_month for x in visits_df.select('year_month').distinct().collect()]\n",
    "for ym in distinct_yms:\n",
    "    list_of_rows.extend(visits_df.filter(visits_df.year_month == ym).orderBy(desc(\"used_rooms\")).take(10))\n",
    "top10_by_month = spark.createDataFrame(list_of_rows)\n",
    "\n",
    "print(\"execution time is \", round(time.time() - start_time, 1), \"sec.\")"
   ]
  },
  {
   "cell_type": "code",
   "execution_count": 15,
   "id": "cf608c90-3d2f-40cc-b032-d1c432ad9c2b",
   "metadata": {},
   "outputs": [
    {
     "name": "stdout",
     "output_type": "stream",
     "text": [
      "== Physical Plan ==\n",
      "* Scan ExistingRDD (1)\n",
      "\n",
      "\n",
      "(1) Scan ExistingRDD [codegen id : 1]\n",
      "Output [4]: [hotel_id#140L, date#141, year_month#142, used_rooms#143L]\n",
      "Arguments: [hotel_id#140L, date#141, year_month#142, used_rooms#143L], MapPartitionsRDD[105] at applySchemaToPythonRDD at NativeMethodAccessorImpl.java:0, ExistingRDD, UnknownPartitioning(0)\n",
      "\n",
      "\n"
     ]
    }
   ],
   "source": [
    "top10_by_month.explain(mode=\"formatted\")"
   ]
  },
  {
   "cell_type": "code",
   "execution_count": 59,
   "id": "b9c1b56f-e38a-418f-a917-8ca4f6185638",
   "metadata": {},
   "outputs": [
    {
     "name": "stderr",
     "output_type": "stream",
     "text": [
      "                                                                                \r"
     ]
    },
    {
     "name": "stdout",
     "output_type": "stream",
     "text": [
      "+-------------+----------+----------+----------+\n",
      "|     hotel_id|      date|year_month|used_rooms|\n",
      "+-------------+----------+----------+----------+\n",
      "|3384434229251|2017-08-24|    2017_8|         4|\n",
      "|3384434229251|2017-08-19|    2017_8|         4|\n",
      "|3384434229251|2017-08-20|    2017_8|         4|\n",
      "|3384434229251|2017-08-21|    2017_8|         4|\n",
      "|3384434229251|2017-08-22|    2017_8|         4|\n",
      "|3384434229251|2017-08-23|    2017_8|         4|\n",
      "|1889785610243|2017-08-17|    2017_8|         3|\n",
      "|  94489280513|2017-08-26|    2017_8|         3|\n",
      "|1889785610243|2017-08-16|    2017_8|         3|\n",
      "|  94489280513|2017-08-25|    2017_8|         3|\n",
      "|1889785610247|2017-09-10|    2017_9|         7|\n",
      "|1889785610247|2017-09-11|    2017_9|         7|\n",
      "|1889785610247|2017-09-12|    2017_9|         7|\n",
      "|1443109011462|2017-09-02|    2017_9|         4|\n",
      "|1443109011462|2017-09-01|    2017_9|         4|\n",
      "|1443109011462|2017-09-03|    2017_9|         4|\n",
      "|1443109011462|2017-09-04|    2017_9|         4|\n",
      "|1872605741056|2017-09-17|    2017_9|         3|\n",
      "|1872605741056|2017-09-18|    2017_9|         3|\n",
      "|1872605741056|2017-09-16|    2017_9|         3|\n",
      "+-------------+----------+----------+----------+\n",
      "only showing top 20 rows\n",
      "\n"
     ]
    }
   ],
   "source": [
    "top10_by_month.show()"
   ]
  }
 ],
 "metadata": {
  "kernelspec": {
   "display_name": "Python 3 (ipykernel)",
   "language": "python",
   "name": "python3"
  },
  "language_info": {
   "codemirror_mode": {
    "name": "ipython",
    "version": 3
   },
   "file_extension": ".py",
   "mimetype": "text/x-python",
   "name": "python",
   "nbconvert_exporter": "python",
   "pygments_lexer": "ipython3",
   "version": "3.10.12"
  }
 },
 "nbformat": 4,
 "nbformat_minor": 5
}
