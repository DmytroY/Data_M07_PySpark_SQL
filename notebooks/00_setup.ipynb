{
 "cells": [
  {
   "cell_type": "code",
   "execution_count": null,
   "id": "e684ada2-2210-4f4a-8729-4247decb0cef",
   "metadata": {},
   "outputs": [],
   "source": [
    "# read Azure bolob storage data to spark dataframes\n",
    "data_path = \"abfss://data@styakovdwesteurope.dfs.core.windows.net\"\n",
    "hw_df = spark.read.parquet(data_path  + \"/hotel-weather\").cache()\n",
    "ex_df = spark.read.format(\"avro\").load(data_path  + \"/expedia\").cache()"
   ]
  },
  {
   "cell_type": "code",
   "execution_count": 2,
   "id": "96974f11-d09b-4756-85cd-04ba91a4a21e",
   "metadata": {},
   "outputs": [],
   "source": [
    "# It will allow us to use SQL sintaxis in jupyter notebook\n",
    "%load_ext sparksql_magic"
   ]
  },
  {
   "cell_type": "code",
   "execution_count": null,
   "id": "ea3b8e71-c1d2-4e0a-ace3-9de13368d09d",
   "metadata": {},
   "outputs": [],
   "source": [
    "# create views so we can also use SQL for processing the data\n",
    "hw_df.createOrReplaceTempView(\"hw\")\n",
    "ex_df.createOrReplaceTempView(\"ex\")"
   ]
  }
 ],
 "metadata": {
  "kernelspec": {
   "display_name": "Python 3 (ipykernel)",
   "language": "python",
   "name": "python3"
  },
  "language_info": {
   "codemirror_mode": {
    "name": "ipython",
    "version": 3
   },
   "file_extension": ".py",
   "mimetype": "text/x-python",
   "name": "python",
   "nbconvert_exporter": "python",
   "pygments_lexer": "ipython3",
   "version": "3.10.12"
  }
 },
 "nbformat": 4,
 "nbformat_minor": 5
}
