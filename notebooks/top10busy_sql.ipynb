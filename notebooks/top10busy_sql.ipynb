{
 "cells": [
  {
   "cell_type": "code",
   "execution_count": 52,
   "id": "715a51a7-c9e1-4e81-8a5c-b91743a57054",
   "metadata": {},
   "outputs": [],
   "source": [
    "import time\n",
    "from pyspark.sql.functions import to_date, sequence, explode, sum, month, year, concat_ws, collect_list,desc"
   ]
  },
  {
   "cell_type": "code",
   "execution_count": 2,
   "id": "089ddf7e-aab9-44c3-b60a-bb0a752cefe0",
   "metadata": {},
   "outputs": [
    {
     "name": "stderr",
     "output_type": "stream",
     "text": [
      "23/11/19 17:18:39 WARN SSLSocketFactoryEx: Failed to load OpenSSL. Falling back to the JSSE default.\n",
      "                                                                                \r"
     ]
    }
   ],
   "source": [
    "%run 01_setup.ipynb"
   ]
  },
  {
   "cell_type": "code",
   "execution_count": 3,
   "id": "86328b05-f2f3-4d5d-ba70-db95f61893c7",
   "metadata": {},
   "outputs": [],
   "source": [
    "# take only clear data\n",
    "ex_clear = ex_df.filter(to_date(\"srch_ci\") <= to_date(\"srch_co\"))"
   ]
  },
  {
   "cell_type": "code",
   "execution_count": 14,
   "id": "cede4fe2-897e-4c79-88ad-ff881216d9fd",
   "metadata": {},
   "outputs": [
    {
     "data": {
      "text/html": [
       "<table><tr style=\"border-bottom: 1px solid\"></tr></table>"
      ],
      "text/plain": [
       "<IPython.core.display.HTML object>"
      ]
     },
     "execution_count": 14,
     "metadata": {},
     "output_type": "execute_result"
    }
   ],
   "source": [
    "%%sparksql\n",
    "-- take only clear data\n",
    "CREATE OR REPLACE TEMP VIEW ex_clear AS\n",
    "    SELECT * FROM ex WHERE date(srch_ci) <= date(srch_co);"
   ]
  },
  {
   "cell_type": "code",
   "execution_count": 15,
   "id": "cb50260d-0b6d-408f-a1ef-6f4c430e3bd7",
   "metadata": {},
   "outputs": [
    {
     "data": {
      "text/html": [
       "<table><tr style=\"border-bottom: 1px solid\"></tr></table>"
      ],
      "text/plain": [
       "<IPython.core.display.HTML object>"
      ]
     },
     "execution_count": 15,
     "metadata": {},
     "output_type": "execute_result"
    }
   ],
   "source": [
    "%%sparksql\n",
    "-- sum booked rooms by dates\n",
    "CREATE OR REPLACE TEMP VIEW visits AS\n",
    "    WITH v AS (\n",
    "        SELECT \n",
    "            hotel_id,\n",
    "            explode(sequence(date(srch_ci),date(srch_co), INTERVAL 1 DAY)) AS date,\n",
    "            srch_rm_cnt\n",
    "        FROM ex_clear)\n",
    "    SELECT hotel_id, date, sum(srch_rm_cnt) AS used_rooms FROM v GROUP BY hotel_id, date;"
   ]
  },
  {
   "cell_type": "code",
   "execution_count": 19,
   "id": "4d82ecff-7a88-4b28-a404-220ad6e09dbf",
   "metadata": {},
   "outputs": [],
   "source": [
    "#sum booked rooms by dates\n",
    "ex_df1 = ex_clear.select('hotel_id', explode(sequence(to_date('srch_ci'),to_date('srch_co'))).alias('date'), 'srch_rm_cnt')\n",
    "visits_df = ex_df1.groupBy('hotel_id', 'date') \\\n",
    "    .agg(concat_ws(\"_\", year('date'), month('date')).alias('year_month'),sum('srch_rm_cnt').alias('used_rooms'))"
   ]
  },
  {
   "cell_type": "code",
   "execution_count": 14,
   "id": "6ea6b99e-ddd0-40eb-9aef-9d5cc14b910b",
   "metadata": {},
   "outputs": [
    {
     "name": "stdout",
     "output_type": "stream",
     "text": [
      "hotel_id , bigint\n",
      "date , date\n",
      "FM , string\n",
      "used_rooms , bigint\n"
     ]
    }
   ],
   "source": [
    "for col in visits_df.dtypes:\n",
    "    print(col[0]+\" , \"+col[1])"
   ]
  },
  {
   "cell_type": "code",
   "execution_count": 15,
   "id": "a57a5410-0b21-43ed-8b2b-bff70a5afb73",
   "metadata": {},
   "outputs": [
    {
     "name": "stderr",
     "output_type": "stream",
     "text": [
      "                                                                                \r"
     ]
    },
    {
     "name": "stdout",
     "output_type": "stream",
     "text": [
      "+-------------+----------+------+----------+\n",
      "|     hotel_id|      date|    FM|used_rooms|\n",
      "+-------------+----------+------+----------+\n",
      "| 970662608899|2017-08-22|2017_8|         1|\n",
      "| 970662608899|2017-08-23|2017_8|         1|\n",
      "|2405181685760|2017-09-16|2017_9|         1|\n",
      "+-------------+----------+------+----------+\n",
      "only showing top 3 rows\n",
      "\n"
     ]
    }
   ],
   "source": [
    "visits_df.show(3)"
   ]
  },
  {
   "cell_type": "code",
   "execution_count": 56,
   "id": "e57ee836-367b-44c0-9a14-2c4eb4fd4265",
   "metadata": {},
   "outputs": [
    {
     "name": "stderr",
     "output_type": "stream",
     "text": [
      "                                                                                \r"
     ]
    },
    {
     "name": "stdout",
     "output_type": "stream",
     "text": [
      "+-------------+----------+----------+----------+\n",
      "|     hotel_id|      date|year_month|used_rooms|\n",
      "+-------------+----------+----------+----------+\n",
      "|3384434229251|2017-08-24|    2017_8|         4|\n",
      "|3384434229251|2017-08-19|    2017_8|         4|\n",
      "|3384434229251|2017-08-20|    2017_8|         4|\n",
      "|3384434229251|2017-08-21|    2017_8|         4|\n",
      "|3384434229251|2017-08-22|    2017_8|         4|\n",
      "|3384434229251|2017-08-23|    2017_8|         4|\n",
      "|1889785610243|2017-08-17|    2017_8|         3|\n",
      "|  94489280513|2017-08-26|    2017_8|         3|\n",
      "|1889785610243|2017-08-16|    2017_8|         3|\n",
      "|  94489280513|2017-08-25|    2017_8|         3|\n",
      "+-------------+----------+----------+----------+\n",
      "\n"
     ]
    },
    {
     "name": "stderr",
     "output_type": "stream",
     "text": [
      "                                                                                \r"
     ]
    }
   ],
   "source": [
    "list_of_rows = visits_df.filter(visits_df.year_month == '2017_8').orderBy(desc(\"used_rooms\")).take(10)\n",
    "df = spark.createDataFrame(list_of_rows)\n",
    "df.show()"
   ]
  },
  {
   "cell_type": "code",
   "execution_count": 59,
   "id": "b9c1b56f-e38a-418f-a917-8ca4f6185638",
   "metadata": {},
   "outputs": [
    {
     "name": "stderr",
     "output_type": "stream",
     "text": [
      "                                                                                \r"
     ]
    },
    {
     "name": "stdout",
     "output_type": "stream",
     "text": [
      "+-------------+----------+----------+----------+\n",
      "|     hotel_id|      date|year_month|used_rooms|\n",
      "+-------------+----------+----------+----------+\n",
      "|3384434229251|2017-08-24|    2017_8|         4|\n",
      "|3384434229251|2017-08-19|    2017_8|         4|\n",
      "|3384434229251|2017-08-20|    2017_8|         4|\n",
      "|3384434229251|2017-08-21|    2017_8|         4|\n",
      "|3384434229251|2017-08-22|    2017_8|         4|\n",
      "|3384434229251|2017-08-23|    2017_8|         4|\n",
      "|1889785610243|2017-08-17|    2017_8|         3|\n",
      "|  94489280513|2017-08-26|    2017_8|         3|\n",
      "|1889785610243|2017-08-16|    2017_8|         3|\n",
      "|  94489280513|2017-08-25|    2017_8|         3|\n",
      "|1889785610247|2017-09-10|    2017_9|         7|\n",
      "|1889785610247|2017-09-11|    2017_9|         7|\n",
      "|1889785610247|2017-09-12|    2017_9|         7|\n",
      "|1443109011462|2017-09-02|    2017_9|         4|\n",
      "|1443109011462|2017-09-01|    2017_9|         4|\n",
      "|1443109011462|2017-09-03|    2017_9|         4|\n",
      "|1443109011462|2017-09-04|    2017_9|         4|\n",
      "|1872605741056|2017-09-17|    2017_9|         3|\n",
      "|1872605741056|2017-09-18|    2017_9|         3|\n",
      "|1872605741056|2017-09-16|    2017_9|         3|\n",
      "+-------------+----------+----------+----------+\n",
      "only showing top 20 rows\n",
      "\n"
     ]
    }
   ],
   "source": [
    "list_of_rows = []\n",
    "distinct_yms = [x.year_month for x in visits_df.select('year_month').distinct().collect()]\n",
    "for ym in distinct_yms:\n",
    "    list_of_rows.extend(visits_df.filter(visits_df.year_month == ym).orderBy(desc(\"used_rooms\")).take(10))\n",
    "top10_by_month = spark.createDataFrame(list_of_rows)\n",
    "top10_by_month.show()"
   ]
  },
  {
   "cell_type": "code",
   "execution_count": 62,
   "id": "1bcbf378-13b9-48c6-9803-72c5307aeb41",
   "metadata": {},
   "outputs": [
    {
     "name": "stdout",
     "output_type": "stream",
     "text": [
      "== Physical Plan ==\n",
      "*(1) Scan ExistingRDD[hotel_id#476L,date#477,year_month#478,used_rooms#479L]\n",
      "\n",
      "\n"
     ]
    }
   ],
   "source": [
    "top10_by_month.explain()"
   ]
  },
  {
   "cell_type": "code",
   "execution_count": null,
   "id": "872ded78-9d35-4bf8-90e0-ff152092c098",
   "metadata": {},
   "outputs": [],
   "source": [
    "%%sparksql\n",
    "WITH ymCTE(year, month) AS (\n",
    "    SELECT DISTINCT year(date) AS year, month(date) AS month \n",
    "    FROM visits\n",
    ")\n",
    "SELECT hotel_id, ymCTE.year, ymCTE.month FROM visits LIMIT 10"
   ]
  },
  {
   "cell_type": "code",
   "execution_count": null,
   "id": "9eb47e44-60d8-46a4-bffd-75e1e3da585e",
   "metadata": {},
   "outputs": [],
   "source": [
    "%%sparksql\n",
    "CREATE OR REPLACE TEMPORARY VIEW hwp AS\n",
    "    SELECT /*+ BROADCAST(periods) */ * FROM periods JOIN hw ON TRUE;"
   ]
  }
 ],
 "metadata": {
  "kernelspec": {
   "display_name": "Python 3 (ipykernel)",
   "language": "python",
   "name": "python3"
  },
  "language_info": {
   "codemirror_mode": {
    "name": "ipython",
    "version": 3
   },
   "file_extension": ".py",
   "mimetype": "text/x-python",
   "name": "python",
   "nbconvert_exporter": "python",
   "pygments_lexer": "ipython3",
   "version": "3.10.12"
  }
 },
 "nbformat": 4,
 "nbformat_minor": 5
}
