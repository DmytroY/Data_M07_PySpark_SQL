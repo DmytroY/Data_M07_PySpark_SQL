{
 "cells": [
  {
   "cell_type": "code",
   "execution_count": 1,
   "id": "7b689377-ce29-450a-93e7-2f218e517da6",
   "metadata": {},
   "outputs": [
    {
     "name": "stderr",
     "output_type": "stream",
     "text": [
      "23/11/20 20:12:32 WARN SSLSocketFactoryEx: Failed to load OpenSSL. Falling back to the JSSE default.\n",
      "                                                                                \r"
     ]
    }
   ],
   "source": [
    "%run 01_setup.ipynb"
   ]
  },
  {
   "cell_type": "code",
   "execution_count": 18,
   "id": "cac9879d-64d7-443a-8646-6d5557b37fcb",
   "metadata": {},
   "outputs": [],
   "source": [
    "from pyspark.sql.functions import sequence, explode, to_date, datediff, max, aggregate"
   ]
  },
  {
   "cell_type": "code",
   "execution_count": 10,
   "id": "4551db43-d27e-412e-b346-d8ed9f0e7733",
   "metadata": {},
   "outputs": [
    {
     "name": "stderr",
     "output_type": "stream",
     "text": [
      "                                                                                \r"
     ]
    },
    {
     "data": {
      "text/plain": [
       "847"
      ]
     },
     "execution_count": 10,
     "metadata": {},
     "output_type": "execute_result"
    }
   ],
   "source": [
    "# more than 7 days stay\n",
    "over7d = ex_df.filter(datediff(to_date(\"srch_ci\"), to_date(\"srch_co\")) > 7)\n",
    "over7d.count()"
   ]
  },
  {
   "cell_type": "code",
   "execution_count": null,
   "id": "1fbf39cf-73dc-4d64-bfab-a5c06f506605",
   "metadata": {},
   "outputs": [],
   "source": []
  }
 ],
 "metadata": {
  "kernelspec": {
   "display_name": "Python 3 (ipykernel)",
   "language": "python",
   "name": "python3"
  },
  "language_info": {
   "codemirror_mode": {
    "name": "ipython",
    "version": 3
   },
   "file_extension": ".py",
   "mimetype": "text/x-python",
   "name": "python",
   "nbconvert_exporter": "python",
   "pygments_lexer": "ipython3",
   "version": "3.10.12"
  }
 },
 "nbformat": 4,
 "nbformat_minor": 5
}
