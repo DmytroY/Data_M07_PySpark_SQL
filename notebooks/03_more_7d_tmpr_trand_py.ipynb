{
 "cells": [
  {
   "cell_type": "markdown",
   "id": "6b50e932-a1db-4e49-ba98-c4e11ad7de34",
   "metadata": {},
   "source": [
    "%md\n",
    "# For visits with extended stay (more than 7 days) calculate weather trend (the day temperature difference between last and first day of stay) and average temperature during stay."
   ]
  },
  {
   "cell_type": "code",
   "execution_count": 1,
   "id": "7b689377-ce29-450a-93e7-2f218e517da6",
   "metadata": {},
   "outputs": [
    {
     "name": "stderr",
     "output_type": "stream",
     "text": [
      "23/11/22 23:02:39 WARN SSLSocketFactoryEx: Failed to load OpenSSL. Falling back to the JSSE default.\n",
      "                                                                                \r"
     ]
    }
   ],
   "source": [
    "#read Azure bolob storage data to spark dataframes hw_df (hotel-weather) and ex_df (expedia)\n",
    "%run 00_setup.ipynb"
   ]
  },
  {
   "cell_type": "code",
   "execution_count": 2,
   "id": "cac9879d-64d7-443a-8646-6d5557b37fcb",
   "metadata": {},
   "outputs": [],
   "source": [
    "from pyspark.sql.window import Window\n",
    "from pyspark.sql.functions import sequence, explode, to_date, datediff, monotonically_increasing_id, avg, col, row_number, max, min, first, last"
   ]
  },
  {
   "cell_type": "code",
   "execution_count": 3,
   "id": "f06221c8-78f2-4114-9166-30b6e4c5d678",
   "metadata": {},
   "outputs": [
    {
     "name": "stdout",
     "output_type": "stream",
     "text": [
      "root\n",
      " |-- address: string (nullable = true)\n",
      " |-- avg_tmpr_c: double (nullable = true)\n",
      " |-- avg_tmpr_f: double (nullable = true)\n",
      " |-- city: string (nullable = true)\n",
      " |-- country: string (nullable = true)\n",
      " |-- geoHash: string (nullable = true)\n",
      " |-- id: string (nullable = true)\n",
      " |-- latitude: double (nullable = true)\n",
      " |-- longitude: double (nullable = true)\n",
      " |-- name: string (nullable = true)\n",
      " |-- wthr_date: string (nullable = true)\n",
      " |-- year: integer (nullable = true)\n",
      " |-- month: integer (nullable = true)\n",
      " |-- day: integer (nullable = true)\n",
      "\n"
     ]
    }
   ],
   "source": [
    "hw_df.printSchema()"
   ]
  },
  {
   "cell_type": "code",
   "execution_count": 4,
   "id": "e74415d7-bd5d-4cfc-b003-0d9e651e92c6",
   "metadata": {},
   "outputs": [
    {
     "name": "stdout",
     "output_type": "stream",
     "text": [
      "root\n",
      " |-- id: long (nullable = true)\n",
      " |-- date_time: string (nullable = true)\n",
      " |-- site_name: integer (nullable = true)\n",
      " |-- posa_continent: integer (nullable = true)\n",
      " |-- user_location_country: integer (nullable = true)\n",
      " |-- user_location_region: integer (nullable = true)\n",
      " |-- user_location_city: integer (nullable = true)\n",
      " |-- orig_destination_distance: double (nullable = true)\n",
      " |-- user_id: integer (nullable = true)\n",
      " |-- is_mobile: integer (nullable = true)\n",
      " |-- is_package: integer (nullable = true)\n",
      " |-- channel: integer (nullable = true)\n",
      " |-- srch_ci: string (nullable = true)\n",
      " |-- srch_co: string (nullable = true)\n",
      " |-- srch_adults_cnt: integer (nullable = true)\n",
      " |-- srch_children_cnt: integer (nullable = true)\n",
      " |-- srch_rm_cnt: integer (nullable = true)\n",
      " |-- srch_destination_id: integer (nullable = true)\n",
      " |-- srch_destination_type_id: integer (nullable = true)\n",
      " |-- hotel_id: long (nullable = true)\n",
      "\n"
     ]
    }
   ],
   "source": [
    "ex_df.printSchema()"
   ]
  },
  {
   "cell_type": "code",
   "execution_count": 5,
   "id": "4551db43-d27e-412e-b346-d8ed9f0e7733",
   "metadata": {},
   "outputs": [],
   "source": [
    "# more than 7 days stay\n",
    "over7d_notGrupped = ex_df.filter(datediff(to_date(\"srch_co\"), to_date(\"srch_ci\")) > 7)\n",
    "over7d = over7d_notGrupped.groupBy('hotel_id', 'srch_ci', 'srch_co').count()\n",
    "# add stay_id here\n",
    "over7d = over7d.withColumn('stay_id', monotonically_increasing_id())\n",
    "#over7d.count()"
   ]
  },
  {
   "cell_type": "code",
   "execution_count": 6,
   "id": "1fbf39cf-73dc-4d64-bfab-a5c06f506605",
   "metadata": {},
   "outputs": [],
   "source": [
    "# expand date range to records with exact dates and year_month field\n",
    "over7 = over7d.select(\n",
    "    'stay_id',\n",
    "    'hotel_id',\n",
    "    'srch_ci',\n",
    "    'srch_co',\n",
    "    explode(sequence(to_date('srch_ci'),to_date('srch_co'))).alias('date')\n",
    ")\n",
    "# over7.show(3)\n",
    "# over7.count()"
   ]
  },
  {
   "cell_type": "code",
   "execution_count": 7,
   "id": "5c0b67c3-a9d7-4365-8970-3da544a3d157",
   "metadata": {},
   "outputs": [],
   "source": [
    "# joid weather data, on hotel_id and day provides only 5% coverage with temperature. Must find workaround\n",
    "\n",
    "over7weather = over7.join(hw_df, [over7.hotel_id == hw_df.id, over7.date == hw_df.wthr_date] , \"inner\")\n",
    "# over7weather.count()"
   ]
  },
  {
   "cell_type": "code",
   "execution_count": 8,
   "id": "07a15be5-2b3e-4b7e-94c9-6eac6287c7f0",
   "metadata": {},
   "outputs": [],
   "source": [
    "# let's try join on geoHash.\n",
    "# update over7 with geohash (so we can use temperature data of nearest hotels) and join weather data on geohash and date.\n",
    "s = over7.join(hw_df, over7.hotel_id == hw_df.id, \"inner\") \\\n",
    "    .select(\n",
    "        over7.stay_id,\n",
    "        over7.hotel_id,\n",
    "        over7.srch_ci,\n",
    "        over7.srch_co,\n",
    "        over7.date,\n",
    "        hw_df['geoHash'].alias('hotel_geoHash')\n",
    "    ).dropDuplicates()\n",
    "# s.filter('stay_id = 1').show(2)\n",
    "# s.count()"
   ]
  },
  {
   "cell_type": "code",
   "execution_count": 9,
   "id": "0f904c65-6ce7-49b3-9789-7e3998b36d43",
   "metadata": {},
   "outputs": [],
   "source": [
    "w = hw_df.groupBy('geoHash', 'wthr_date').agg(avg('avg_tmpr_c').alias('tmpr'))\n",
    "# w.show(3)"
   ]
  },
  {
   "cell_type": "code",
   "execution_count": 10,
   "id": "693ca37f-dfe7-4a93-a74e-95d1817839b7",
   "metadata": {},
   "outputs": [
    {
     "name": "stderr",
     "output_type": "stream",
     "text": [
      "                                                                                \r"
     ]
    },
    {
     "name": "stdout",
     "output_type": "stream",
     "text": [
      "+-------+------------+----------+----------+----------+-------------+----+\n",
      "|stay_id|    hotel_id|   srch_ci|   srch_co|      date|hotel_geoHash|tmpr|\n",
      "+-------+------------+----------+----------+----------+-------------+----+\n",
      "|      1|824633720836|2017-09-12|2017-10-28|2017-09-12|         dr4j|NULL|\n",
      "|      1|824633720836|2017-09-12|2017-10-28|2017-09-13|         dr4j|NULL|\n",
      "|      1|824633720836|2017-09-12|2017-10-28|2017-09-14|         dr4j|NULL|\n",
      "|      1|824633720836|2017-09-12|2017-10-28|2017-09-15|         dr4j|NULL|\n",
      "|      1|824633720836|2017-09-12|2017-10-28|2017-09-16|         dr4j|NULL|\n",
      "|      1|824633720836|2017-09-12|2017-10-28|2017-09-17|         dr4j|NULL|\n",
      "|      1|824633720836|2017-09-12|2017-10-28|2017-09-18|         dr4j|NULL|\n",
      "|      1|824633720836|2017-09-12|2017-10-28|2017-09-19|         dr4j|NULL|\n",
      "|      1|824633720836|2017-09-12|2017-10-28|2017-09-20|         dr4j|23.4|\n",
      "|      1|824633720836|2017-09-12|2017-10-28|2017-09-21|         dr4j|NULL|\n",
      "|      1|824633720836|2017-09-12|2017-10-28|2017-09-22|         dr4j|NULL|\n",
      "|      1|824633720836|2017-09-12|2017-10-28|2017-09-23|         dr4j|NULL|\n",
      "|      1|824633720836|2017-09-12|2017-10-28|2017-09-24|         dr4j|NULL|\n",
      "|      1|824633720836|2017-09-12|2017-10-28|2017-09-25|         dr4j|NULL|\n",
      "|      1|824633720836|2017-09-12|2017-10-28|2017-09-26|         dr4j|NULL|\n",
      "|      1|824633720836|2017-09-12|2017-10-28|2017-09-27|         dr4j|23.6|\n",
      "|      1|824633720836|2017-09-12|2017-10-28|2017-09-28|         dr4j|NULL|\n",
      "|      1|824633720836|2017-09-12|2017-10-28|2017-09-29|         dr4j|NULL|\n",
      "|      1|824633720836|2017-09-12|2017-10-28|2017-09-30|         dr4j|NULL|\n",
      "|      1|824633720836|2017-09-12|2017-10-28|2017-10-01|         dr4j|NULL|\n",
      "+-------+------------+----------+----------+----------+-------------+----+\n",
      "only showing top 20 rows\n",
      "\n"
     ]
    }
   ],
   "source": [
    "sw = s.join(w, [s.hotel_geoHash == w.geoHash, s.date == w.wthr_date] , \"left\") \\\n",
    "    .select(s['*'], w.tmpr)\n",
    "sw.filter('stay_id = 1').show()"
   ]
  },
  {
   "cell_type": "code",
   "execution_count": 11,
   "id": "807416d8-c983-450f-aad9-abdc71cf94e6",
   "metadata": {},
   "outputs": [
    {
     "name": "stderr",
     "output_type": "stream",
     "text": [
      "                                                                                \r"
     ]
    },
    {
     "data": {
      "text/plain": [
       "90840"
      ]
     },
     "execution_count": 11,
     "metadata": {},
     "output_type": "execute_result"
    }
   ],
   "source": [
    "# count records whrere we have no temperature:\n",
    "sw.select('date', 'hotel_geoHash').where(col('tmpr'). isNull()).dropDuplicates().count()"
   ]
  },
  {
   "cell_type": "markdown",
   "id": "e525379f-9f7f-40d0-9a6a-b6b70c164692",
   "metadata": {},
   "source": [
    "%md\n",
    "Yet the trick of joining on geoHas is also not wery helpfull.\n",
    "Unfortunately for most visits we have no temperature on first and last day of visit so we can't perform requested analisys.\n",
    "\n",
    "But code should be the next:"
   ]
  },
  {
   "cell_type": "code",
   "execution_count": 13,
   "id": "1d19dc38-968e-4a92-a811-1197b7ab6c2d",
   "metadata": {},
   "outputs": [
    {
     "name": "stderr",
     "output_type": "stream",
     "text": [
      "[Stage 41:>                                                         (0 + 1) / 1]\r"
     ]
    },
    {
     "name": "stdout",
     "output_type": "stream",
     "text": [
      "+-------+-------------+----------+----------+--------------+-------------+------------------+\n",
      "|stay_id|     hotel_id|   srch_ci|   srch_co|first_day_tmpr|last_day_tmpr|          avg_tmpr|\n",
      "+-------+-------------+----------+----------+--------------+-------------+------------------+\n",
      "|      0|1468878815233|2016-10-13|2016-11-24|          NULL|         NULL|              NULL|\n",
      "|      6|2173253451777|2017-08-13|2017-08-22|          NULL|         NULL|              NULL|\n",
      "|      7|3143916060675|2017-08-23|2017-08-31|          NULL|         NULL|17.099999999999973|\n",
      "|      9|3332894621698|2017-08-21|2017-08-29|          NULL|         NULL|              24.5|\n",
      "|     19|3264175144962|2017-08-01|2017-08-16|          NULL|         NULL| 15.59999999999994|\n",
      "|     22|2834678415361|2017-09-17|2017-10-07|          NULL|         NULL| 18.30000000000008|\n",
      "|     25|2241972928516|2016-10-21|2016-11-02|          NULL|         NULL| 17.09999999999994|\n",
      "|     26|2516850835457|2017-09-04|2017-09-19|          NULL|         NULL|              NULL|\n",
      "|     29|1864015806466|2017-08-13|2017-08-21|          NULL|         NULL| 18.30000000000001|\n",
      "|     31|2508260900867|2017-09-10|2017-09-18|          NULL|         NULL|              NULL|\n",
      "|     32|1717986918403|2016-10-20|2016-10-29|          NULL|         NULL|              NULL|\n",
      "|     34|2989297238019|2017-09-25|2017-10-05|          NULL|         NULL|              NULL|\n",
      "|     39|3152505995269|2017-08-15|2017-08-24|          NULL|         NULL|              NULL|\n",
      "|     43|2877628088320|2017-08-13|2017-08-21|          NULL|         NULL|              NULL|\n",
      "|     50|1864015806465|2017-09-22|2017-10-01|          NULL|         NULL|14.199999999999935|\n",
      "|     54|3393024163841|2016-10-30|2016-11-07|          NULL|         NULL|              NULL|\n",
      "|     57|1838246002689|2017-09-22|2017-09-30|          NULL|         NULL| 18.30000000000008|\n",
      "|     58| 575525617664|2017-08-26|2017-09-03|          NULL|         NULL|              NULL|\n",
      "|     65|1073741824004|2017-08-13|2017-08-30|          NULL|         NULL|              NULL|\n",
      "|     68|2525440770051|2017-08-21|2017-08-29|          NULL|         NULL|              NULL|\n",
      "+-------+-------------+----------+----------+--------------+-------------+------------------+\n",
      "only showing top 20 rows\n",
      "\n"
     ]
    },
    {
     "name": "stderr",
     "output_type": "stream",
     "text": [
      "                                                                                \r"
     ]
    }
   ],
   "source": [
    "# maximum, minimum and average temperature during stay.\n",
    "windowSpec  = Window.partitionBy(\"stay_id\").orderBy(col(\"date\"))\n",
    "windowSpecDesc  = Window.partitionBy(\"stay_id\").orderBy(col(\"date\").desc())\n",
    "windowSpecAgg  = Window.partitionBy(\"stay_id\")\n",
    "\n",
    "result = sw.withColumn(\"first_day_tmpr\", first(\"tmpr\").over(windowSpec)) \\\n",
    "    .withColumn(\"last_day_tmpr\", first(\"tmpr\").over(windowSpecDesc)) \\\n",
    "    .withColumn(\"avg_tmpr\", avg(\"tmpr\").over(windowSpecAgg)) \\\n",
    "    .withColumn(\"row\",row_number().over(windowSpec)) \\\n",
    "    .where(\"row = 1\") \\\n",
    "    .select(\"stay_id\", \"hotel_id\", \"srch_ci\", \"srch_co\", \"first_day_tmpr\", \"last_day_tmpr\", \"avg_tmpr\")\n",
    "\n",
    "result.show()\n"
   ]
  },
  {
   "cell_type": "markdown",
   "id": "8f32e48d-ca19-4b40-bec1-ae91b8cc689e",
   "metadata": {},
   "source": [
    "%md\n",
    "As I mention before we can't reseive first_day_tmpr and last_day_tmpr because it is absent in initial data.\n",
    "Please refer to 04-demo.ipynb for example of how similar code work on valid data."
   ]
  },
  {
   "cell_type": "code",
   "execution_count": 14,
   "id": "eca36e68-ae4e-4675-9c49-364672f55c90",
   "metadata": {},
   "outputs": [
    {
     "name": "stdout",
     "output_type": "stream",
     "text": [
      "== Physical Plan ==\n",
      "AdaptiveSparkPlan (44)\n",
      "+- Project (43)\n",
      "   +- Filter (42)\n",
      "      +- Window (41)\n",
      "         +- WindowGroupLimit (40)\n",
      "            +- Sort (39)\n",
      "               +- Project (38)\n",
      "                  +- Window (37)\n",
      "                     +- Window (36)\n",
      "                        +- Sort (35)\n",
      "                           +- Window (34)\n",
      "                              +- Sort (33)\n",
      "                                 +- Exchange (32)\n",
      "                                    +- Project (31)\n",
      "                                       +- BroadcastHashJoin LeftOuter BuildRight (30)\n",
      "                                          :- HashAggregate (20)\n",
      "                                          :  +- HashAggregate (19)\n",
      "                                          :     +- Project (18)\n",
      "                                          :        +- BroadcastHashJoin Inner BuildRight (17)\n",
      "                                          :           :- Project (10)\n",
      "                                          :           :  +- Generate (9)\n",
      "                                          :           :     +- Filter (8)\n",
      "                                          :           :        +- HashAggregate (7)\n",
      "                                          :           :           +- Exchange (6)\n",
      "                                          :           :              +- HashAggregate (5)\n",
      "                                          :           :                 +- Filter (4)\n",
      "                                          :           :                    +- InMemoryTableScan (1)\n",
      "                                          :           :                          +- InMemoryRelation (2)\n",
      "                                          :           :                                +- Scan avro  (3)\n",
      "                                          :           +- BroadcastExchange (16)\n",
      "                                          :              +- Filter (15)\n",
      "                                          :                 +- InMemoryTableScan (11)\n",
      "                                          :                       +- InMemoryRelation (12)\n",
      "                                          :                             +- * ColumnarToRow (14)\n",
      "                                          :                                +- Scan parquet  (13)\n",
      "                                          +- BroadcastExchange (29)\n",
      "                                             +- HashAggregate (28)\n",
      "                                                +- Exchange (27)\n",
      "                                                   +- HashAggregate (26)\n",
      "                                                      +- Filter (25)\n",
      "                                                         +- InMemoryTableScan (21)\n",
      "                                                               +- InMemoryRelation (22)\n",
      "                                                                     +- * ColumnarToRow (24)\n",
      "                                                                        +- Scan parquet  (23)\n",
      "\n",
      "\n",
      "(1) InMemoryTableScan\n",
      "Output [3]: [srch_ci#110, srch_co#111, hotel_id#117L]\n",
      "Arguments: [srch_ci#110, srch_co#111, hotel_id#117L], [isnotnull(srch_co#111), isnotnull(srch_ci#110), (datediff(cast(srch_co#111 as date), cast(srch_ci#110 as date)) > 7)]\n",
      "\n",
      "(2) InMemoryRelation\n",
      "Arguments: [id#98L, date_time#99, site_name#100, posa_continent#101, user_location_country#102, user_location_region#103, user_location_city#104, orig_destination_distance#105, user_id#106, is_mobile#107, is_package#108, channel#109, srch_ci#110, srch_co#111, srch_adults_cnt#112, srch_children_cnt#113, srch_rm_cnt#114, srch_destination_id#115, srch_destination_type_id#116, hotel_id#117L], CachedRDDBuilder(org.apache.spark.sql.execution.columnar.DefaultCachedBatchSerializer@5f94367a,StorageLevel(disk, memory, deserialized, 1 replicas),FileScan avro [id#98L,date_time#99,site_name#100,posa_continent#101,user_location_country#102,user_location_region#103,user_location_city#104,orig_destination_distance#105,user_id#106,is_mobile#107,is_package#108,channel#109,srch_ci#110,srch_co#111,srch_adults_cnt#112,srch_children_cnt#113,srch_rm_cnt#114,srch_destination_id#115,srch_destination_type_id#116,hotel_id#117L] Batched: false, DataFilters: [], Format: Avro, Location: InMemoryFileIndex(1 paths)[abfss://data@styakovdwesteurope.dfs.core.windows.net/expedia], PartitionFilters: [], PushedFilters: [], ReadSchema: struct<id:bigint,date_time:string,site_name:int,posa_continent:int,user_location_country:int,user...\n",
      ",None)\n",
      "\n",
      "(3) Scan avro \n",
      "Output [20]: [id#98L, date_time#99, site_name#100, posa_continent#101, user_location_country#102, user_location_region#103, user_location_city#104, orig_destination_distance#105, user_id#106, is_mobile#107, is_package#108, channel#109, srch_ci#110, srch_co#111, srch_adults_cnt#112, srch_children_cnt#113, srch_rm_cnt#114, srch_destination_id#115, srch_destination_type_id#116, hotel_id#117L]\n",
      "Batched: false\n",
      "Location: InMemoryFileIndex [abfss://data@styakovdwesteurope.dfs.core.windows.net/expedia]\n",
      "ReadSchema: struct<id:bigint,date_time:string,site_name:int,posa_continent:int,user_location_country:int,user_location_region:int,user_location_city:int,orig_destination_distance:double,user_id:int,is_mobile:int,is_package:int,channel:int,srch_ci:string,srch_co:string,srch_adults_cnt:int,srch_children_cnt:int,srch_rm_cnt:int,srch_destination_id:int,srch_destination_type_id:int,hotel_id:bigint>\n",
      "\n",
      "(4) Filter\n",
      "Input [3]: [srch_ci#110, srch_co#111, hotel_id#117L]\n",
      "Condition : ((isnotnull(srch_co#111) AND isnotnull(srch_ci#110)) AND (datediff(cast(srch_co#111 as date), cast(srch_ci#110 as date)) > 7))\n",
      "\n",
      "(5) HashAggregate\n",
      "Input [3]: [srch_ci#110, srch_co#111, hotel_id#117L]\n",
      "Keys [3]: [hotel_id#117L, srch_ci#110, srch_co#111]\n",
      "Functions: []\n",
      "Aggregate Attributes: []\n",
      "Results [3]: [hotel_id#117L, srch_ci#110, srch_co#111]\n",
      "\n",
      "(6) Exchange\n",
      "Input [3]: [hotel_id#117L, srch_ci#110, srch_co#111]\n",
      "Arguments: hashpartitioning(hotel_id#117L, srch_ci#110, srch_co#111, 200), ENSURE_REQUIREMENTS, [plan_id=3776]\n",
      "\n",
      "(7) HashAggregate\n",
      "Input [3]: [hotel_id#117L, srch_ci#110, srch_co#111]\n",
      "Keys [3]: [hotel_id#117L, srch_ci#110, srch_co#111]\n",
      "Functions: []\n",
      "Aggregate Attributes: []\n",
      "Results [4]: [hotel_id#117L, srch_ci#110, srch_co#111, monotonically_increasing_id() AS stay_id#265L]\n",
      "\n",
      "(8) Filter\n",
      "Input [4]: [hotel_id#117L, srch_ci#110, srch_co#111, stay_id#265L]\n",
      "Condition : isnotnull(hotel_id#117L)\n",
      "\n",
      "(9) Generate\n",
      "Input [4]: [hotel_id#117L, srch_ci#110, srch_co#111, stay_id#265L]\n",
      "Arguments: explode(sequence(cast(srch_ci#110 as date), cast(srch_co#111 as date), None, Some(Europe/Kyiv))), [hotel_id#117L, srch_ci#110, srch_co#111, stay_id#265L], false, [date#272]\n",
      "\n",
      "(10) Project\n",
      "Output [5]: [stay_id#265L, hotel_id#117L, srch_ci#110, srch_co#111, date#272]\n",
      "Input [5]: [hotel_id#117L, srch_ci#110, srch_co#111, stay_id#265L, date#272]\n",
      "\n",
      "(11) InMemoryTableScan\n",
      "Output [2]: [geoHash#5, id#6]\n",
      "Arguments: [geoHash#5, id#6], [isnotnull(id#6)]\n",
      "\n",
      "(12) InMemoryRelation\n",
      "Arguments: [address#0, avg_tmpr_c#1, avg_tmpr_f#2, city#3, country#4, geoHash#5, id#6, latitude#7, longitude#8, name#9, wthr_date#10, year#11, month#12, day#13], CachedRDDBuilder(org.apache.spark.sql.execution.columnar.DefaultCachedBatchSerializer@5f94367a,StorageLevel(disk, memory, deserialized, 1 replicas),*(1) ColumnarToRow\n",
      "+- FileScan parquet [address#0,avg_tmpr_c#1,avg_tmpr_f#2,city#3,country#4,geoHash#5,id#6,latitude#7,longitude#8,name#9,wthr_date#10,year#11,month#12,day#13] Batched: true, DataFilters: [], Format: Parquet, Location: InMemoryFileIndex(1 paths)[abfss://data@styakovdwesteurope.dfs.core.windows.net/hotel-weather], PartitionFilters: [], PushedFilters: [], ReadSchema: struct<address:string,avg_tmpr_c:double,avg_tmpr_f:double,city:string,country:string,geoHash:stri...\n",
      ",None)\n",
      "\n",
      "(13) Scan parquet \n",
      "Output [14]: [address#0, avg_tmpr_c#1, avg_tmpr_f#2, city#3, country#4, geoHash#5, id#6, latitude#7, longitude#8, name#9, wthr_date#10, year#11, month#12, day#13]\n",
      "Batched: true\n",
      "Location: InMemoryFileIndex [abfss://data@styakovdwesteurope.dfs.core.windows.net/hotel-weather]\n",
      "ReadSchema: struct<address:string,avg_tmpr_c:double,avg_tmpr_f:double,city:string,country:string,geoHash:string,id:string,latitude:double,longitude:double,name:string,wthr_date:string>\n",
      "\n",
      "(14) ColumnarToRow [codegen id : 1]\n",
      "Input [14]: [address#0, avg_tmpr_c#1, avg_tmpr_f#2, city#3, country#4, geoHash#5, id#6, latitude#7, longitude#8, name#9, wthr_date#10, year#11, month#12, day#13]\n",
      "\n",
      "(15) Filter\n",
      "Input [2]: [geoHash#5, id#6]\n",
      "Condition : isnotnull(id#6)\n",
      "\n",
      "(16) BroadcastExchange\n",
      "Input [2]: [geoHash#5, id#6]\n",
      "Arguments: HashedRelationBroadcastMode(List(cast(input[1, string, false] as bigint)),false), [plan_id=3782]\n",
      "\n",
      "(17) BroadcastHashJoin\n",
      "Left keys [1]: [hotel_id#117L]\n",
      "Right keys [1]: [cast(id#6 as bigint)]\n",
      "Join type: Inner\n",
      "Join condition: None\n",
      "\n",
      "(18) Project\n",
      "Output [6]: [stay_id#265L, hotel_id#117L, srch_ci#110, srch_co#111, date#272, geoHash#5 AS hotel_geoHash#355]\n",
      "Input [7]: [stay_id#265L, hotel_id#117L, srch_ci#110, srch_co#111, date#272, geoHash#5, id#6]\n",
      "\n",
      "(19) HashAggregate\n",
      "Input [6]: [stay_id#265L, hotel_id#117L, srch_ci#110, srch_co#111, date#272, hotel_geoHash#355]\n",
      "Keys [6]: [hotel_id#117L, srch_co#111, srch_ci#110, hotel_geoHash#355, date#272, stay_id#265L]\n",
      "Functions: []\n",
      "Aggregate Attributes: []\n",
      "Results [6]: [hotel_id#117L, srch_co#111, srch_ci#110, hotel_geoHash#355, date#272, stay_id#265L]\n",
      "\n",
      "(20) HashAggregate\n",
      "Input [6]: [hotel_id#117L, srch_co#111, srch_ci#110, hotel_geoHash#355, date#272, stay_id#265L]\n",
      "Keys [6]: [hotel_id#117L, srch_co#111, srch_ci#110, hotel_geoHash#355, date#272, stay_id#265L]\n",
      "Functions: []\n",
      "Aggregate Attributes: []\n",
      "Results [6]: [stay_id#265L, hotel_id#117L, srch_ci#110, srch_co#111, date#272, hotel_geoHash#355]\n",
      "\n",
      "(21) InMemoryTableScan\n",
      "Output [3]: [avg_tmpr_c#382, geoHash#386, wthr_date#391]\n",
      "Arguments: [avg_tmpr_c#382, geoHash#386, wthr_date#391], [isnotnull(geoHash#386), isnotnull(wthr_date#391)]\n",
      "\n",
      "(22) InMemoryRelation\n",
      "Arguments: [address#381, avg_tmpr_c#382, avg_tmpr_f#383, city#384, country#385, geoHash#386, id#387, latitude#388, longitude#389, name#390, wthr_date#391, year#392, month#393, day#394], CachedRDDBuilder(org.apache.spark.sql.execution.columnar.DefaultCachedBatchSerializer@5f94367a,StorageLevel(disk, memory, deserialized, 1 replicas),*(1) ColumnarToRow\n",
      "+- FileScan parquet [address#0,avg_tmpr_c#1,avg_tmpr_f#2,city#3,country#4,geoHash#5,id#6,latitude#7,longitude#8,name#9,wthr_date#10,year#11,month#12,day#13] Batched: true, DataFilters: [], Format: Parquet, Location: InMemoryFileIndex(1 paths)[abfss://data@styakovdwesteurope.dfs.core.windows.net/hotel-weather], PartitionFilters: [], PushedFilters: [], ReadSchema: struct<address:string,avg_tmpr_c:double,avg_tmpr_f:double,city:string,country:string,geoHash:stri...\n",
      ",None)\n",
      "\n",
      "(23) Scan parquet \n",
      "Output [14]: [address#0, avg_tmpr_c#1, avg_tmpr_f#2, city#3, country#4, geoHash#5, id#6, latitude#7, longitude#8, name#9, wthr_date#10, year#11, month#12, day#13]\n",
      "Batched: true\n",
      "Location: InMemoryFileIndex [abfss://data@styakovdwesteurope.dfs.core.windows.net/hotel-weather]\n",
      "ReadSchema: struct<address:string,avg_tmpr_c:double,avg_tmpr_f:double,city:string,country:string,geoHash:string,id:string,latitude:double,longitude:double,name:string,wthr_date:string>\n",
      "\n",
      "(24) ColumnarToRow [codegen id : 1]\n",
      "Input [14]: [address#0, avg_tmpr_c#1, avg_tmpr_f#2, city#3, country#4, geoHash#5, id#6, latitude#7, longitude#8, name#9, wthr_date#10, year#11, month#12, day#13]\n",
      "\n",
      "(25) Filter\n",
      "Input [3]: [avg_tmpr_c#382, geoHash#386, wthr_date#391]\n",
      "Condition : (isnotnull(geoHash#386) AND isnotnull(wthr_date#391))\n",
      "\n",
      "(26) HashAggregate\n",
      "Input [3]: [avg_tmpr_c#382, geoHash#386, wthr_date#391]\n",
      "Keys [2]: [geoHash#386, wthr_date#391]\n",
      "Functions [1]: [partial_avg(avg_tmpr_c#382)]\n",
      "Aggregate Attributes [2]: [sum#1162, count#1163L]\n",
      "Results [4]: [geoHash#386, wthr_date#391, sum#1164, count#1165L]\n",
      "\n",
      "(27) Exchange\n",
      "Input [4]: [geoHash#386, wthr_date#391, sum#1164, count#1165L]\n",
      "Arguments: hashpartitioning(geoHash#386, wthr_date#391, 200), ENSURE_REQUIREMENTS, [plan_id=3787]\n",
      "\n",
      "(28) HashAggregate\n",
      "Input [4]: [geoHash#386, wthr_date#391, sum#1164, count#1165L]\n",
      "Keys [2]: [geoHash#386, wthr_date#391]\n",
      "Functions [1]: [avg(avg_tmpr_c#382)]\n",
      "Aggregate Attributes [1]: [avg(avg_tmpr_c#382)#376]\n",
      "Results [3]: [geoHash#386, wthr_date#391, avg(avg_tmpr_c#382)#376 AS tmpr#377]\n",
      "\n",
      "(29) BroadcastExchange\n",
      "Input [3]: [geoHash#386, wthr_date#391, tmpr#377]\n",
      "Arguments: HashedRelationBroadcastMode(List(input[0, string, true], cast(input[1, string, true] as date)),false), [plan_id=3790]\n",
      "\n",
      "(30) BroadcastHashJoin\n",
      "Left keys [2]: [hotel_geoHash#355, date#272]\n",
      "Right keys [2]: [geoHash#386, cast(wthr_date#391 as date)]\n",
      "Join type: LeftOuter\n",
      "Join condition: None\n",
      "\n",
      "(31) Project\n",
      "Output [6]: [stay_id#265L, hotel_id#117L, srch_ci#110, srch_co#111, date#272, tmpr#377]\n",
      "Input [9]: [stay_id#265L, hotel_id#117L, srch_ci#110, srch_co#111, date#272, hotel_geoHash#355, geoHash#386, wthr_date#391, tmpr#377]\n",
      "\n",
      "(32) Exchange\n",
      "Input [6]: [stay_id#265L, hotel_id#117L, srch_ci#110, srch_co#111, date#272, tmpr#377]\n",
      "Arguments: hashpartitioning(stay_id#265L, 200), ENSURE_REQUIREMENTS, [plan_id=3794]\n",
      "\n",
      "(33) Sort\n",
      "Input [6]: [stay_id#265L, hotel_id#117L, srch_ci#110, srch_co#111, date#272, tmpr#377]\n",
      "Arguments: [stay_id#265L ASC NULLS FIRST, date#272 ASC NULLS FIRST], false, 0\n",
      "\n",
      "(34) Window\n",
      "Input [6]: [stay_id#265L, hotel_id#117L, srch_ci#110, srch_co#111, date#272, tmpr#377]\n",
      "Arguments: [first(tmpr#377, false) windowspecdefinition(stay_id#265L, date#272 ASC NULLS FIRST, specifiedwindowframe(RangeFrame, unboundedpreceding$(), currentrow$())) AS first_day_tmpr#4202], [stay_id#265L], [date#272 ASC NULLS FIRST]\n",
      "\n",
      "(35) Sort\n",
      "Input [7]: [stay_id#265L, hotel_id#117L, srch_ci#110, srch_co#111, date#272, tmpr#377, first_day_tmpr#4202]\n",
      "Arguments: [stay_id#265L ASC NULLS FIRST, date#272 DESC NULLS LAST], false, 0\n",
      "\n",
      "(36) Window\n",
      "Input [7]: [stay_id#265L, hotel_id#117L, srch_ci#110, srch_co#111, date#272, tmpr#377, first_day_tmpr#4202]\n",
      "Arguments: [first(tmpr#377, false) windowspecdefinition(stay_id#265L, date#272 DESC NULLS LAST, specifiedwindowframe(RangeFrame, unboundedpreceding$(), currentrow$())) AS last_day_tmpr#4212], [stay_id#265L], [date#272 DESC NULLS LAST]\n",
      "\n",
      "(37) Window\n",
      "Input [8]: [stay_id#265L, hotel_id#117L, srch_ci#110, srch_co#111, date#272, tmpr#377, first_day_tmpr#4202, last_day_tmpr#4212]\n",
      "Arguments: [avg(tmpr#377) windowspecdefinition(stay_id#265L, specifiedwindowframe(RowFrame, unboundedpreceding$(), unboundedfollowing$())) AS avg_tmpr#4223], [stay_id#265L]\n",
      "\n",
      "(38) Project\n",
      "Output [8]: [stay_id#265L, hotel_id#117L, srch_ci#110, srch_co#111, date#272, first_day_tmpr#4202, last_day_tmpr#4212, avg_tmpr#4223]\n",
      "Input [9]: [stay_id#265L, hotel_id#117L, srch_ci#110, srch_co#111, date#272, tmpr#377, first_day_tmpr#4202, last_day_tmpr#4212, avg_tmpr#4223]\n",
      "\n",
      "(39) Sort\n",
      "Input [8]: [stay_id#265L, hotel_id#117L, srch_ci#110, srch_co#111, date#272, first_day_tmpr#4202, last_day_tmpr#4212, avg_tmpr#4223]\n",
      "Arguments: [stay_id#265L ASC NULLS FIRST, date#272 ASC NULLS FIRST], false, 0\n",
      "\n",
      "(40) WindowGroupLimit\n",
      "Input [8]: [stay_id#265L, hotel_id#117L, srch_ci#110, srch_co#111, date#272, first_day_tmpr#4202, last_day_tmpr#4212, avg_tmpr#4223]\n",
      "Arguments: [stay_id#265L], [date#272 ASC NULLS FIRST], row_number(), 1, Final\n",
      "\n",
      "(41) Window\n",
      "Input [8]: [stay_id#265L, hotel_id#117L, srch_ci#110, srch_co#111, date#272, first_day_tmpr#4202, last_day_tmpr#4212, avg_tmpr#4223]\n",
      "Arguments: [row_number() windowspecdefinition(stay_id#265L, date#272 ASC NULLS FIRST, specifiedwindowframe(RowFrame, unboundedpreceding$(), currentrow$())) AS row#4235], [stay_id#265L], [date#272 ASC NULLS FIRST]\n",
      "\n",
      "(42) Filter\n",
      "Input [9]: [stay_id#265L, hotel_id#117L, srch_ci#110, srch_co#111, date#272, first_day_tmpr#4202, last_day_tmpr#4212, avg_tmpr#4223, row#4235]\n",
      "Condition : (row#4235 = 1)\n",
      "\n",
      "(43) Project\n",
      "Output [7]: [stay_id#265L, hotel_id#117L, srch_ci#110, srch_co#111, first_day_tmpr#4202, last_day_tmpr#4212, avg_tmpr#4223]\n",
      "Input [9]: [stay_id#265L, hotel_id#117L, srch_ci#110, srch_co#111, date#272, first_day_tmpr#4202, last_day_tmpr#4212, avg_tmpr#4223, row#4235]\n",
      "\n",
      "(44) AdaptiveSparkPlan\n",
      "Output [7]: [stay_id#265L, hotel_id#117L, srch_ci#110, srch_co#111, first_day_tmpr#4202, last_day_tmpr#4212, avg_tmpr#4223]\n",
      "Arguments: isFinalPlan=false\n",
      "\n",
      "\n"
     ]
    }
   ],
   "source": [
    "# Execution plan.\n",
    "result.explain(mode=\"formatted\")"
   ]
  },
  {
   "cell_type": "markdown",
   "id": "fbde91cc-d825-4bae-90cf-54bd14b94fa6",
   "metadata": {},
   "source": [
    "%md\n",
    "## Execution plan analize\n",
    "Most expensive operations are:\n",
    "*BroadcastHashJoin Inner BuildRight (17)* - it is when we update visits data with geoHash, join on hotel_id,\n",
    "*BroadcastHashJoin LeftOuter BuildRight (30)* - we update visits data with temperature join on geoHas.\n",
    "Those redundand steps originated when I try to find workarount and increase temperature data coverage by using weather data from nearest hotels.\n",
    "Now we know that it's gave us little improvement, so querries can be optimized by using only one join - just to get temperature by join on hotel and date."
   ]
  },
  {
   "cell_type": "code",
   "execution_count": null,
   "id": "537f4402-ac79-49b1-ad44-824e41a8c936",
   "metadata": {},
   "outputs": [],
   "source": [
    "result.write.parquet(data_path  + \"/ouput/over7d_stay.parquet\")"
   ]
  }
 ],
 "metadata": {
  "kernelspec": {
   "display_name": "Python 3 (ipykernel)",
   "language": "python",
   "name": "python3"
  },
  "language_info": {
   "codemirror_mode": {
    "name": "ipython",
    "version": 3
   },
   "file_extension": ".py",
   "mimetype": "text/x-python",
   "name": "python",
   "nbconvert_exporter": "python",
   "pygments_lexer": "ipython3",
   "version": "3.10.12"
  }
 },
 "nbformat": 4,
 "nbformat_minor": 5
}
